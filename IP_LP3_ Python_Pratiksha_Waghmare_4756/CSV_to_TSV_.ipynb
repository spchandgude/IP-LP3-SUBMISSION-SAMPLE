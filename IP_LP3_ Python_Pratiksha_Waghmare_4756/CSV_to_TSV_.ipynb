{
 "cells": [
  {
   "cell_type": "code",
   "execution_count": 5,
   "metadata": {},
   "outputs": [],
   "source": [
    "import tkinter as tk\n",
    "\n",
    "root= tk.Tk()\n",
    "root.title(\"File Converter\")\n",
    "canvas1 = tk.Canvas(root, width = 1500, height = 1000,  relief = 'raised')\n",
    "canvas1.pack()\n",
    "\n",
    "label1 = tk.Label(root, text='---FILE CONVERTER----')      \n",
    "label1.config(font=('Times New Roman', 40))\n",
    "canvas1.create_window(750, 110, window=label1)\n",
    "\n",
    "label6 = tk.Label(root, text='CSV to TSV')             \n",
    "label6.config(font=('helvetica', 28))\n",
    "canvas1.create_window(750, 160, window=label6)\n",
    "\n",
    "label2 = tk.Label(root, text='Enter input file path to convert:')             \n",
    "label2.config(font=('helvetica', 20))\n",
    "canvas1.create_window(750, 250, window=label2)\n",
    "\n",
    "entry1 = tk.Entry (root)       \n",
    "canvas1.create_window(750, 300, window=entry1)\n",
    "\n",
    "label3 = tk.Label(root, text='\\nEnter Destination path for Output file:(using .tsv extension)')             \n",
    "label3.config(font=('helvetica', 20))\n",
    "canvas1.create_window(750, 400, window=label3)\n",
    "\n",
    "entry2 = tk.Entry (root)       \n",
    "canvas1.create_window(750, 470, window=entry2)\n",
    "\n",
    "def converter ():                  \n",
    "    \n",
    "    x1 = entry1.get()\n",
    "    x2=entry2.get()\n",
    "    import csv\n",
    "    try:\n",
    "        with open(x1,'r') as csvin, open(x2, 'w') as tsvout:\n",
    "            csvin = csv.reader(csvin)\n",
    "            tsvout = csv.writer(tsvout, delimiter='\\t')\n",
    "\n",
    "            for row in csvin:\n",
    "                tsvout.writerow(row)\n",
    "            label4 = tk.Label(root, text='File Converted')      \n",
    "            label4.config(font=('Times New Roman', 16))\n",
    "            canvas1.create_window(750, 700, window=label4)\n",
    "    except:\n",
    "        label5 = tk.Label(root, text='Oops!!!Invalid Path,\\nPlease enter correct path')      \n",
    "        label5.config(font=('Times New Roman', 16))\n",
    "        canvas1.create_window(750, 700, window=label5)\n",
    "            \n",
    "    \n",
    "    \n",
    "button1 = tk.Button(text='Convert', command=converter, bg='blue', fg='white', font=('Times New Roman', 16, 'bold'))\n",
    "canvas1.create_window(750, 600, window=button1)\n",
    "\n",
    "root.mainloop()"
   ]
  },
  {
   "cell_type": "code",
   "execution_count": null,
   "metadata": {},
   "outputs": [],
   "source": []
  },
  {
   "cell_type": "code",
   "execution_count": null,
   "metadata": {},
   "outputs": [],
   "source": []
  }
 ],
 "metadata": {
  "kernelspec": {
   "display_name": "Python 3",
   "language": "python",
   "name": "python3"
  },
  "language_info": {
   "codemirror_mode": {
    "name": "ipython",
    "version": 3
   },
   "file_extension": ".py",
   "mimetype": "text/x-python",
   "name": "python",
   "nbconvert_exporter": "python",
   "pygments_lexer": "ipython3",
   "version": "3.8.5"
  }
 },
 "nbformat": 4,
 "nbformat_minor": 4
}
