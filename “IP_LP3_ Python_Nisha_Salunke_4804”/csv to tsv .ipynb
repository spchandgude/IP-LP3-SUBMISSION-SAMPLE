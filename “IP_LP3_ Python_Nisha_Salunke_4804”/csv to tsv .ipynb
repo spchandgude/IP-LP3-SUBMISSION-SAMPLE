{
 "cells": [
  {
   "cell_type": "code",
   "execution_count": 1,
   "metadata": {},
   "outputs": [
    {
     "name": "stdout",
     "output_type": "stream",
     "text": [
      "CSV to TSV Converter\n",
      "Enter File Path:C:/Users/Nisha/Desktop/IPL.csv\n",
      "Enter Destination Path & Name:C:/Users/Nisha/Desktop/data1.tsv\n"
     ]
    }
   ],
   "source": [
    "import csv\n",
    "print(\"CSV to TSV Converter\")\n",
    "try:\n",
    "    input_file=input(\"Enter File Path:\")\n",
    "    output_file=input(\"Enter Destination Path & Name:\")\n",
    "    with open(input_file,'r') as csvin, open(output_file, 'w') as tsvout:\n",
    "        csvin = csv.reader(csvin)\n",
    "        tsvout = csv.writer(tsvout, delimiter='\\t')\n",
    "\n",
    "        for row in csvin:\n",
    "            tsvout.writerow(row)\n",
    "except:\n",
    "    print(\"Invalid path\")"
   ]
  },
  {
   "cell_type": "code",
   "execution_count": 2,
   "metadata": {},
   "outputs": [
    {
     "name": "stdout",
     "output_type": "stream",
     "text": [
      "TSV to CSV Converter\n",
      "Enter Input File path:C:/Users/Nisha/Desktop/data1.tsv\n",
      "Enter Destination path and name:C:/Users/Nisha/Desktop/data2.csv\n"
     ]
    }
   ],
   "source": [
    "import csv\n",
    "print(\"TSV to CSV Converter\")\n",
    "try:\n",
    "    input_file=input(\"Enter Input File path:\")\n",
    "    output_file=input(\"Enter Destination path and name:\")\n",
    "    with open(input_file,'r') as tsvin, open(output_file, 'w') as csvout:\n",
    "        tsvin = csv.reader(tsvin)\n",
    "        csvout = csv.writer(csvout, delimiter='\\t')\n",
    "\n",
    "        for row in tsvin:\n",
    "            csvout.writerow(row)\n",
    "except:\n",
    "    print(\"Invalid path\")"
   ]
  },
  {
   "cell_type": "code",
   "execution_count": null,
   "metadata": {},
   "outputs": [],
   "source": []
  }
 ],
 "metadata": {
  "kernelspec": {
   "display_name": "Python 3",
   "language": "python",
   "name": "python3"
  },
  "language_info": {
   "codemirror_mode": {
    "name": "ipython",
    "version": 3
   },
   "file_extension": ".py",
   "mimetype": "text/x-python",
   "name": "python",
   "nbconvert_exporter": "python",
   "pygments_lexer": "ipython3",
   "version": "3.8.5"
  }
 },
 "nbformat": 4,
 "nbformat_minor": 4
}
