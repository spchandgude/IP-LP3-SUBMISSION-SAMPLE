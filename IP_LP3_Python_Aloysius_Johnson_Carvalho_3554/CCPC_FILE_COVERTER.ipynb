{
  "nbformat": 4,
  "nbformat_minor": 0,
  "metadata": {
    "colab": {
      "name": "CCPC_FILE_COVERTER.ipynb",
      "provenance": []
    },
    "kernelspec": {
      "name": "python3",
      "display_name": "Python 3"
    },
    "language_info": {
      "name": "python"
    }
  },
  "cells": [
    {
      "cell_type": "code",
      "metadata": {
        "colab": {
          "base_uri": "https://localhost:8080/"
        },
        "id": "y3eD6ZV-Y6rE",
        "outputId": "5d5d6279-de14-4500-b5c7-2bc7a76dff9d"
      },
      "source": [
        "import os\n",
        "def csvtotsv():\n",
        "  file_name= input(\"Enter the csv file name without extension(.csv):\")\n",
        "  os.rename(file_name+\".csv\" , file_name+\".tsv\")\n",
        "  print(\".csv file is now converted to .tsv file\")\n",
        "\n",
        "def tsvtocsv():\n",
        "  file_name1= input(\"Enter the file name  without extension(.tsv):\")\n",
        "  os.rename(file_name1+\".tsv\" , file_name1+\".csv\")\n",
        "  print(\".tsv file is now converted to .csv file\")\n",
        "\n",
        "\n",
        "def main():\n",
        "    while True:\n",
        "        try:\n",
        "            choice = int(input(\"Press 1 : csv to tsv converter\\nPress 2: tsv to csv converter \\nPress 3 : Exit\\nEnter your choice: \"))\n",
        "        except ValueError:\n",
        "            print(\"Enter Your Choice:\")\n",
        "            continue\n",
        "        if choice == 1:\n",
        "               csvtotsv()\n",
        "        if choice == 2:\n",
        "               tsvtocsv()\n",
        "        elif choice == 3:\n",
        "            print(\"Program Ended Successfully\")\n",
        "            break\n",
        "        else:\n",
        "           print(\"Select a correct option\")\n",
        "\n",
        "\n",
        "main()"
      ],
      "execution_count": 1,
      "outputs": [
        {
          "output_type": "stream",
          "text": [
            "Press 1 : csv to tsv converter\n",
            "Press 2: tsv to csv converter \n",
            "Press 3 : Exit\n",
            "Enter your choice: 1\n",
            "Enter the csv file name without extension(.csv):addresses\n",
            ".csv file is now converted to .tsv file\n",
            "Select a correct option\n",
            "Press 1 : csv to tsv converter\n",
            "Press 2: tsv to csv converter \n",
            "Press 3 : Exit\n",
            "Enter your choice: 3\n",
            "Program Ended Successfully\n"
          ],
          "name": "stdout"
        }
      ]
    },
    {
      "cell_type": "code",
      "metadata": {
        "id": "LiubjJ_Ndkit"
      },
      "source": [
        ""
      ],
      "execution_count": null,
      "outputs": []
    }
  ]
}