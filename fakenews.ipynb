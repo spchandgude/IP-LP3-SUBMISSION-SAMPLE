{
 "cells": [
  {
   "cell_type": "code",
   "execution_count": 3,
   "metadata": {},
   "outputs": [
    {
     "name": "stderr",
     "output_type": "stream",
     "text": [
      "Using TensorFlow backend.\n"
     ]
    }
   ],
   "source": [
    "import pandas as pd\n",
    "import numpy as np\n",
    "from sklearn.model_selection import train_test_split\n",
    "from sklearn.feature_extraction.text import TfidfVectorizer, CountVectorizer\n",
    "import matplotlib.pyplot as plt\n",
    "import itertools\n",
    "from sklearn import svm\n",
    "from sklearn.naive_bayes import MultinomialNB\n",
    "from sklearn.ensemble import RandomForestClassifier, GradientBoostingClassifier\n",
    "from sklearn import metrics\n",
    "import spacy\n",
    "from sklearn.feature_extraction.stop_words import ENGLISH_STOP_WORDS\n",
    "import string\n",
    "import re\n",
    "import nltk\n",
    "import collections\n",
    "from nltk.corpus import stopwords\n",
    "from sklearn.feature_extraction import DictVectorizer\n",
    "from sklearn.pipeline import Pipeline, FeatureUnion\n",
    "from empath import Empath\n",
    "from keras.preprocessing.text import Tokenizer\n",
    "from keras.preprocessing.sequence import pad_sequences\n",
    "import pickle"
   ]
  },
  {
   "cell_type": "code",
   "execution_count": 4,
   "metadata": {},
   "outputs": [
    {
     "data": {
      "text/plain": [
       "REAL    2137\n",
       "FAKE    1872\n",
       "Name: Label, dtype: int64"
      ]
     },
     "execution_count": 4,
     "metadata": {},
     "output_type": "execute_result"
    }
   ],
   "source": [
    "df = pd.read_csv('Dataset/data.csv')\n",
    "df.loc[df['Label']== 0, 'Label'] = 'REAL'\n",
    "df.loc[df['Label']== 1, 'Label'] = 'FAKE'\n",
    "df.columns\n",
    "df['Label'].value_counts()"
   ]
  },
  {
   "cell_type": "code",
   "execution_count": 5,
   "metadata": {},
   "outputs": [
    {
     "data": {
      "text/plain": [
       "Index(['Headline', 'Body', 'Label'], dtype='object')"
      ]
     },
     "execution_count": 5,
     "metadata": {},
     "output_type": "execute_result"
    }
   ],
   "source": [
    "#Dropping the column URLs from the table\n",
    "df.drop(['URLs'], axis = 1, inplace = True)\n",
    "df.columns"
   ]
  },
  {
   "cell_type": "code",
   "execution_count": 6,
   "metadata": {},
   "outputs": [],
   "source": [
    "#Selecting only fake news from all the types of news and then replacing the 'fake' by 0\n",
    "df1 = pd.read_csv('Dataset/fake.csv')\n",
    "df1.columns\n",
    "df1['type'].value_counts()\n",
    "df1 = df1.loc[df1['type']=='fake']\n",
    "df1.loc[df1['type']== 'fake', 'type'] = 'FAKE'"
   ]
  },
  {
   "cell_type": "code",
   "execution_count": 7,
   "metadata": {},
   "outputs": [
    {
     "data": {
      "text/plain": [
       "FAKE    19\n",
       "Name: Label, dtype: int64"
      ]
     },
     "execution_count": 7,
     "metadata": {},
     "output_type": "execute_result"
    }
   ],
   "source": [
    "#Selecting some columns from the table and renaming them\\n\",\n",
    "df1 = df1[['title','text','type']]\n",
    "df1.columns = ['Headline', 'Body', 'Label']\n",
    "df1['Label'].value_counts()"
   ]
  },
  {
   "cell_type": "code",
   "execution_count": 8,
   "metadata": {},
   "outputs": [
    {
     "data": {
      "text/plain": [
       "Index(['Unnamed: 0', 'title', 'text', 'label'], dtype='object')"
      ]
     },
     "execution_count": 8,
     "metadata": {},
     "output_type": "execute_result"
    }
   ],
   "source": [
    "df2 = pd.read_csv('Dataset/fake_or_real_news.csv')\n",
    "df2.columns"
   ]
  },
  {
   "cell_type": "code",
   "execution_count": 9,
   "metadata": {},
   "outputs": [
    {
     "data": {
      "text/plain": [
       "REAL    3171\n",
       "FAKE    3164\n",
       "Name: Label, dtype: int64"
      ]
     },
     "execution_count": 9,
     "metadata": {},
     "output_type": "execute_result"
    }
   ],
   "source": [
    "#Selecting few columns from the table and renaming the columns\n",
    "df2 = df2[['title','text','label']]\n",
    "df2.columns = ['Headline', 'Body', 'Label']\n",
    "df2.columns\n",
    "df2['Label'].value_counts()"
   ]
  },
  {
   "cell_type": "code",
   "execution_count": 10,
   "metadata": {},
   "outputs": [
    {
     "data": {
      "text/plain": [
       "Index(['id', 'title', 'author', 'text', 'label'], dtype='object')"
      ]
     },
     "execution_count": 10,
     "metadata": {},
     "output_type": "execute_result"
    }
   ],
   "source": [
    "df3 = pd.read_csv('Dataset/train.csv')\n",
    "df3.columns"
   ]
  },
  {
   "cell_type": "code",
   "execution_count": 11,
   "metadata": {},
   "outputs": [
    {
     "data": {
      "text/plain": [
       "FAKE    10413\n",
       "REAL    10387\n",
       "Name: Label, dtype: int64"
      ]
     },
     "execution_count": 11,
     "metadata": {},
     "output_type": "execute_result"
    }
   ],
   "source": [
    "#Selecting few columns from the table and renaming the columns\n",
    "df3 = df3[['title','text','label']]\n",
    "df3.columns = ['Headline', 'Body', 'Label']\n",
    "df3.loc[df3['Label']== 0, 'Label'] = 'REAL'\n",
    "df3.loc[df3['Label']== 1, 'Label'] = 'FAKE'\n",
    "df3.columns\n",
    "df3['Label'].value_counts()"
   ]
  },
  {
   "cell_type": "code",
   "execution_count": 12,
   "metadata": {},
   "outputs": [],
   "source": [
    "#Appending df1,df2,df3 to df\n",
    "df = df.append(df1, ignore_index = True)\n",
    "df = df.append(df2, ignore_index = True)\n",
    "df = df.append(df3, ignore_index = True)"
   ]
  },
  {
   "cell_type": "code",
   "execution_count": 13,
   "metadata": {
    "scrolled": true
   },
   "outputs": [
    {
     "data": {
      "text/html": [
       "<div>\n",
       "<style scoped>\n",
       "    .dataframe tbody tr th:only-of-type {\n",
       "        vertical-align: middle;\n",
       "    }\n",
       "\n",
       "    .dataframe tbody tr th {\n",
       "        vertical-align: top;\n",
       "    }\n",
       "\n",
       "    .dataframe thead th {\n",
       "        text-align: right;\n",
       "    }\n",
       "</style>\n",
       "<table border=\"1\" class=\"dataframe\">\n",
       "  <thead>\n",
       "    <tr style=\"text-align: right;\">\n",
       "      <th></th>\n",
       "      <th>Headline</th>\n",
       "      <th>Body</th>\n",
       "      <th>Label</th>\n",
       "    </tr>\n",
       "  </thead>\n",
       "  <tbody>\n",
       "    <tr>\n",
       "      <th>0</th>\n",
       "      <td>Four ways Bob Corker skewered Donald Trump</td>\n",
       "      <td>Image copyright Getty Images\\nOn Sunday mornin...</td>\n",
       "      <td>FAKE</td>\n",
       "    </tr>\n",
       "    <tr>\n",
       "      <th>1</th>\n",
       "      <td>Linklater's war veteran comedy speaks to moder...</td>\n",
       "      <td>LONDON (Reuters) - “Last Flag Flying”, a comed...</td>\n",
       "      <td>FAKE</td>\n",
       "    </tr>\n",
       "    <tr>\n",
       "      <th>2</th>\n",
       "      <td>Trump’s Fight With Corker Jeopardizes His Legi...</td>\n",
       "      <td>The feud broke into public view last week when...</td>\n",
       "      <td>FAKE</td>\n",
       "    </tr>\n",
       "    <tr>\n",
       "      <th>3</th>\n",
       "      <td>Egypt's Cheiron wins tie-up with Pemex for Mex...</td>\n",
       "      <td>MEXICO CITY (Reuters) - Egypt’s Cheiron Holdin...</td>\n",
       "      <td>FAKE</td>\n",
       "    </tr>\n",
       "    <tr>\n",
       "      <th>4</th>\n",
       "      <td>Jason Aldean opens 'SNL' with Vegas tribute</td>\n",
       "      <td>Country singer Jason Aldean, who was performin...</td>\n",
       "      <td>FAKE</td>\n",
       "    </tr>\n",
       "    <tr>\n",
       "      <th>5</th>\n",
       "      <td>JetNation FanDuel League; Week 4</td>\n",
       "      <td>JetNation FanDuel League; Week 4\\n% of readers...</td>\n",
       "      <td>REAL</td>\n",
       "    </tr>\n",
       "    <tr>\n",
       "      <th>6</th>\n",
       "      <td>Kansas Tried a Tax Plan Similar to Trump’s. It...</td>\n",
       "      <td>In 2012, Kansas lawmakers, led by Gov. Sam Bro...</td>\n",
       "      <td>FAKE</td>\n",
       "    </tr>\n",
       "    <tr>\n",
       "      <th>7</th>\n",
       "      <td>India RBI chief: growth important, but not at ...</td>\n",
       "      <td>The Reserve Bank of India (RBI) Governor Urjit...</td>\n",
       "      <td>FAKE</td>\n",
       "    </tr>\n",
       "    <tr>\n",
       "      <th>8</th>\n",
       "      <td>EPA chief to sign rule on Clean Power Plan exi...</td>\n",
       "      <td>Scott Pruitt, Administrator of the U.S. Enviro...</td>\n",
       "      <td>FAKE</td>\n",
       "    </tr>\n",
       "    <tr>\n",
       "      <th>9</th>\n",
       "      <td>Talks on sale of Air Berlin planes to easyJet ...</td>\n",
       "      <td>FILE PHOTO - An Air Berlin sign is seen at an ...</td>\n",
       "      <td>FAKE</td>\n",
       "    </tr>\n",
       "    <tr>\n",
       "      <th>10</th>\n",
       "      <td>U.S. President Donald Trump Quietly Signs Law ...</td>\n",
       "      <td>By Aaron Kesel\\nAs former White House chief of...</td>\n",
       "      <td>REAL</td>\n",
       "    </tr>\n",
       "    <tr>\n",
       "      <th>11</th>\n",
       "      <td>2017 Fantasy Football Team Defense Rankings - ...</td>\n",
       "      <td>2017 Fantasy Football Team Defense Rankings – ...</td>\n",
       "      <td>REAL</td>\n",
       "    </tr>\n",
       "    <tr>\n",
       "      <th>12</th>\n",
       "      <td>Just Shut Up &amp; Play Some Damn Baseball!!</td>\n",
       "      <td>Just Shut Up &amp; Play Some Damn Baseball!!\\n(Bef...</td>\n",
       "      <td>REAL</td>\n",
       "    </tr>\n",
       "    <tr>\n",
       "      <th>13</th>\n",
       "      <td>Deloitte cyber attack affected up to 350 clien...</td>\n",
       "      <td>FILE PHOTO: The Deloitte Company logo is seen ...</td>\n",
       "      <td>FAKE</td>\n",
       "    </tr>\n",
       "    <tr>\n",
       "      <th>14</th>\n",
       "      <td>10/7: Chuck Axed; HBD Brickyard, Adam, Moonlig...</td>\n",
       "      <td>A Potato Battery Can Light up a Room for Over ...</td>\n",
       "      <td>REAL</td>\n",
       "    </tr>\n",
       "    <tr>\n",
       "      <th>15</th>\n",
       "      <td>Gunman’s Girlfriend Said She Didn’t Know He Pl...</td>\n",
       "      <td>• The authorities found evidence that the gunm...</td>\n",
       "      <td>FAKE</td>\n",
       "    </tr>\n",
       "    <tr>\n",
       "      <th>16</th>\n",
       "      <td>Marilou Danley, Gunman’s Girlfriend, Says She ...</td>\n",
       "      <td>The statement, which was read by her lawyer, M...</td>\n",
       "      <td>FAKE</td>\n",
       "    </tr>\n",
       "    <tr>\n",
       "      <th>17</th>\n",
       "      <td>Trump’s Immigration Rhetoric Echoes a Bitter F...</td>\n",
       "      <td>In bold documentary style, Retro Report looks ...</td>\n",
       "      <td>FAKE</td>\n",
       "    </tr>\n",
       "    <tr>\n",
       "      <th>18</th>\n",
       "      <td>Trump Bemoans ‘Little Appreciation’ As San Jua...</td>\n",
       "      <td>Red Flag Warning: These California Wildfires A...</td>\n",
       "      <td>REAL</td>\n",
       "    </tr>\n",
       "    <tr>\n",
       "      <th>19</th>\n",
       "      <td>In Meeting With Military, Trump Talks Of 'Calm...</td>\n",
       "      <td>In Meeting With Military, Trump Talks Of 'Calm...</td>\n",
       "      <td>REAL</td>\n",
       "    </tr>\n",
       "    <tr>\n",
       "      <th>20</th>\n",
       "      <td>Teacher Sparks Outrage By Asking Kids To Make ...</td>\n",
       "      <td>Red Flag Warning: These California Wildfires A...</td>\n",
       "      <td>REAL</td>\n",
       "    </tr>\n",
       "    <tr>\n",
       "      <th>21</th>\n",
       "      <td>9/28 Through the 40s: The Gloaming; HBD Bill, ...</td>\n",
       "      <td>Vietnam Is in Great Danger, You Must Publish a...</td>\n",
       "      <td>REAL</td>\n",
       "    </tr>\n",
       "    <tr>\n",
       "      <th>22</th>\n",
       "      <td>Weinstein Co board ousts Harvey Weinstein afte...</td>\n",
       "      <td>(Reuters) - The Weinstein Co has fired co-Chai...</td>\n",
       "      <td>FAKE</td>\n",
       "    </tr>\n",
       "    <tr>\n",
       "      <th>23</th>\n",
       "      <td>Hillary Clinton Suggests That Trump May Order ...</td>\n",
       "      <td>Hillary Clinton Suggests That Trump May Order ...</td>\n",
       "      <td>REAL</td>\n",
       "    </tr>\n",
       "    <tr>\n",
       "      <th>24</th>\n",
       "      <td>9/29 Through the 40s: HBD Cannonball &amp; Paul, C...</td>\n",
       "      <td>Red Flag Warning: These California Wildfires A...</td>\n",
       "      <td>REAL</td>\n",
       "    </tr>\n",
       "    <tr>\n",
       "      <th>25</th>\n",
       "      <td>Sharapova storms into Tianjin quarter-finals</td>\n",
       "      <td>(Reuters) - Maria Sharapova overpowered Poland...</td>\n",
       "      <td>FAKE</td>\n",
       "    </tr>\n",
       "    <tr>\n",
       "      <th>26</th>\n",
       "      <td>10/3 Expo Park-Forbes Field Era: Pirates, Gray...</td>\n",
       "      <td>Red Flag Warning: These California Wildfires A...</td>\n",
       "      <td>REAL</td>\n",
       "    </tr>\n",
       "    <tr>\n",
       "      <th>27</th>\n",
       "      <td>Weinstein scandal no surprise to Hollywood</td>\n",
       "      <td>Chat with us in Facebook Messenger. Find out w...</td>\n",
       "      <td>FAKE</td>\n",
       "    </tr>\n",
       "    <tr>\n",
       "      <th>28</th>\n",
       "      <td>Blackhawks Roster Breakdown: Goalies</td>\n",
       "      <td>Blackhawks Roster Breakdown: Goalies\\n(Before ...</td>\n",
       "      <td>REAL</td>\n",
       "    </tr>\n",
       "    <tr>\n",
       "      <th>29</th>\n",
       "      <td>With Christian Pulisic Driving, United States ...</td>\n",
       "      <td>When Pulisic tore open the left side of the Pa...</td>\n",
       "      <td>FAKE</td>\n",
       "    </tr>\n",
       "    <tr>\n",
       "      <th>...</th>\n",
       "      <td>...</td>\n",
       "      <td>...</td>\n",
       "      <td>...</td>\n",
       "    </tr>\n",
       "    <tr>\n",
       "      <th>31128</th>\n",
       "      <td>NFL Preview: Championship Match-Ups Prove Team...</td>\n",
       "      <td>The NFL is a   league, so it should come as no...</td>\n",
       "      <td>REAL</td>\n",
       "    </tr>\n",
       "    <tr>\n",
       "      <th>31129</th>\n",
       "      <td>President Trump’s Father’s Day Proclamation: D...</td>\n",
       "      <td>President Donald Trump officially declared tod...</td>\n",
       "      <td>REAL</td>\n",
       "    </tr>\n",
       "    <tr>\n",
       "      <th>31130</th>\n",
       "      <td>Former Ambassador Andrew Young Calls for End t...</td>\n",
       "      <td>By Brandon Turbeville Anti-fluoridation activi...</td>\n",
       "      <td>FAKE</td>\n",
       "    </tr>\n",
       "    <tr>\n",
       "      <th>31131</th>\n",
       "      <td>Osama bin Laden’s older brother rents out luxu...</td>\n",
       "      <td>Osama bin Laden’s older brother rents out luxu...</td>\n",
       "      <td>FAKE</td>\n",
       "    </tr>\n",
       "    <tr>\n",
       "      <th>31132</th>\n",
       "      <td>WORLD WAR 3 ▲ Mr.President #004 ▲ xFrozenLPx</td>\n",
       "      <td>source Add To The Conversation Using Facebook ...</td>\n",
       "      <td>FAKE</td>\n",
       "    </tr>\n",
       "    <tr>\n",
       "      <th>31133</th>\n",
       "      <td>HUMA ABEDIN SWORE UNDER OATH SHE GAVE UP ‘ALL ...</td>\n",
       "      <td>Home › POLITICS | US NEWS › HUMA ABEDIN SWORE ...</td>\n",
       "      <td>FAKE</td>\n",
       "    </tr>\n",
       "    <tr>\n",
       "      <th>31134</th>\n",
       "      <td>NaN</td>\n",
       "      <td>DYN's Statement on Last Week's Botnet Attack h...</td>\n",
       "      <td>FAKE</td>\n",
       "    </tr>\n",
       "    <tr>\n",
       "      <th>31135</th>\n",
       "      <td>NaN</td>\n",
       "      <td>Kinda reminds me of when Carter gave away the ...</td>\n",
       "      <td>FAKE</td>\n",
       "    </tr>\n",
       "    <tr>\n",
       "      <th>31137</th>\n",
       "      <td>Government Report: Islamists Building ’Paralle...</td>\n",
       "      <td>Aided by a politically correct culture of “tol...</td>\n",
       "      <td>REAL</td>\n",
       "    </tr>\n",
       "    <tr>\n",
       "      <th>31140</th>\n",
       "      <td>Editor of Austria’s Largest Paper Charged with...</td>\n",
       "      <td>Breitbart October 26, 2016 \\nAn editor of Aust...</td>\n",
       "      <td>FAKE</td>\n",
       "    </tr>\n",
       "    <tr>\n",
       "      <th>31141</th>\n",
       "      <td>This Is a Jobs Report That Democrats Can Boast...</td>\n",
       "      <td>There’s not much to say about the July jobs nu...</td>\n",
       "      <td>REAL</td>\n",
       "    </tr>\n",
       "    <tr>\n",
       "      <th>31142</th>\n",
       "      <td>Christians in 2017 ’Most Persecuted Group in t...</td>\n",
       "      <td>In many parts of the world, Christians gatheri...</td>\n",
       "      <td>REAL</td>\n",
       "    </tr>\n",
       "    <tr>\n",
       "      <th>31143</th>\n",
       "      <td>Florida Woman Charged in Death of Infant in ‘C...</td>\n",
       "      <td>Early on Oct. 6, Erin   was awakened by the so...</td>\n",
       "      <td>REAL</td>\n",
       "    </tr>\n",
       "    <tr>\n",
       "      <th>31144</th>\n",
       "      <td>Time is Running Out to Stop Kratom Ban – Need ...</td>\n",
       "      <td>By Brandon Turbeville When the DEA announced t...</td>\n",
       "      <td>FAKE</td>\n",
       "    </tr>\n",
       "    <tr>\n",
       "      <th>31145</th>\n",
       "      <td>The Fix Is In: NBC Affiliate Accidentally Post...</td>\n",
       "      <td>Home » Headlines » World News » The Fix Is In:...</td>\n",
       "      <td>FAKE</td>\n",
       "    </tr>\n",
       "    <tr>\n",
       "      <th>31146</th>\n",
       "      <td>Samsung, Kim Jong-un, Rex Tillerson: Your Morn...</td>\n",
       "      <td>Good morning.  Here’s what you need to know: •...</td>\n",
       "      <td>REAL</td>\n",
       "    </tr>\n",
       "    <tr>\n",
       "      <th>31147</th>\n",
       "      <td>Comment on World Heaves Sigh of Relief after T...</td>\n",
       "      <td>Finian Cunningham has written extensively on...</td>\n",
       "      <td>FAKE</td>\n",
       "    </tr>\n",
       "    <tr>\n",
       "      <th>31148</th>\n",
       "      <td>Ann Coulter: How to Provide Universal Health C...</td>\n",
       "      <td>The first sentence of Congress’ Obamacare repe...</td>\n",
       "      <td>REAL</td>\n",
       "    </tr>\n",
       "    <tr>\n",
       "      <th>31149</th>\n",
       "      <td>Government Forces Advancing at Damascus-Aleppo...</td>\n",
       "      <td>#FROMTHEFRONT #MAPS 22.11.2016 - 1,361 views 5...</td>\n",
       "      <td>FAKE</td>\n",
       "    </tr>\n",
       "    <tr>\n",
       "      <th>31150</th>\n",
       "      <td>Sally Yates Won’t Say If Trump Was Wiretapped ...</td>\n",
       "      <td>Former Deputy Attorney General Sally Yates dec...</td>\n",
       "      <td>REAL</td>\n",
       "    </tr>\n",
       "    <tr>\n",
       "      <th>31151</th>\n",
       "      <td>Maine’s Gov. LePage Threatens To ‘Investigate’...</td>\n",
       "      <td>Google Pinterest Digg Linkedin Reddit Stumbleu...</td>\n",
       "      <td>FAKE</td>\n",
       "    </tr>\n",
       "    <tr>\n",
       "      <th>31152</th>\n",
       "      <td>Sen. McConnell: The Supreme Court Vacancy Was ...</td>\n",
       "      <td>Senate Majority Leader Mitch McConnell (R, KY)...</td>\n",
       "      <td>REAL</td>\n",
       "    </tr>\n",
       "    <tr>\n",
       "      <th>31153</th>\n",
       "      <td>Nikki Haley Blasts U.N. Human Rights Office fo...</td>\n",
       "      <td>U. S Ambassador to the United Nations Nikki Ha...</td>\n",
       "      <td>REAL</td>\n",
       "    </tr>\n",
       "    <tr>\n",
       "      <th>31155</th>\n",
       "      <td>Jakarta Bombing Kills Three Police Officers, L...</td>\n",
       "      <td>Two suicide bombers attacked a bus station in ...</td>\n",
       "      <td>REAL</td>\n",
       "    </tr>\n",
       "    <tr>\n",
       "      <th>31156</th>\n",
       "      <td>Idiot Who Destroyed Trump Hollywood Star Gets ...</td>\n",
       "      <td>Share This \\nAlthough the vandal who thought i...</td>\n",
       "      <td>FAKE</td>\n",
       "    </tr>\n",
       "    <tr>\n",
       "      <th>31157</th>\n",
       "      <td>Trump: Putin ’Very Smart’ to Not Retaliate ove...</td>\n",
       "      <td>Donald Trump took to Twitter Friday to praise ...</td>\n",
       "      <td>REAL</td>\n",
       "    </tr>\n",
       "    <tr>\n",
       "      <th>31158</th>\n",
       "      <td>Rapper T.I.: Trump a ’Poster Child For White S...</td>\n",
       "      <td>Rapper T. I. unloaded on black celebrities who...</td>\n",
       "      <td>REAL</td>\n",
       "    </tr>\n",
       "    <tr>\n",
       "      <th>31159</th>\n",
       "      <td>N.F.L. Playoffs: Schedule, Matchups and Odds -...</td>\n",
       "      <td>When the Green Bay Packers lost to the Washing...</td>\n",
       "      <td>REAL</td>\n",
       "    </tr>\n",
       "    <tr>\n",
       "      <th>31160</th>\n",
       "      <td>Macy’s Is Said to Receive Takeover Approach by...</td>\n",
       "      <td>The Macy’s of today grew from the union of sev...</td>\n",
       "      <td>REAL</td>\n",
       "    </tr>\n",
       "    <tr>\n",
       "      <th>31162</th>\n",
       "      <td>What Keeps the F-35 Alive</td>\n",
       "      <td>David Swanson is an author, activist, journa...</td>\n",
       "      <td>FAKE</td>\n",
       "    </tr>\n",
       "  </tbody>\n",
       "</table>\n",
       "<p>27865 rows × 3 columns</p>\n",
       "</div>"
      ],
      "text/plain": [
       "                                                Headline  \\\n",
       "0             Four ways Bob Corker skewered Donald Trump   \n",
       "1      Linklater's war veteran comedy speaks to moder...   \n",
       "2      Trump’s Fight With Corker Jeopardizes His Legi...   \n",
       "3      Egypt's Cheiron wins tie-up with Pemex for Mex...   \n",
       "4            Jason Aldean opens 'SNL' with Vegas tribute   \n",
       "5                       JetNation FanDuel League; Week 4   \n",
       "6      Kansas Tried a Tax Plan Similar to Trump’s. It...   \n",
       "7      India RBI chief: growth important, but not at ...   \n",
       "8      EPA chief to sign rule on Clean Power Plan exi...   \n",
       "9      Talks on sale of Air Berlin planes to easyJet ...   \n",
       "10     U.S. President Donald Trump Quietly Signs Law ...   \n",
       "11     2017 Fantasy Football Team Defense Rankings - ...   \n",
       "12              Just Shut Up & Play Some Damn Baseball!!   \n",
       "13     Deloitte cyber attack affected up to 350 clien...   \n",
       "14     10/7: Chuck Axed; HBD Brickyard, Adam, Moonlig...   \n",
       "15     Gunman’s Girlfriend Said She Didn’t Know He Pl...   \n",
       "16     Marilou Danley, Gunman’s Girlfriend, Says She ...   \n",
       "17     Trump’s Immigration Rhetoric Echoes a Bitter F...   \n",
       "18     Trump Bemoans ‘Little Appreciation’ As San Jua...   \n",
       "19     In Meeting With Military, Trump Talks Of 'Calm...   \n",
       "20     Teacher Sparks Outrage By Asking Kids To Make ...   \n",
       "21     9/28 Through the 40s: The Gloaming; HBD Bill, ...   \n",
       "22     Weinstein Co board ousts Harvey Weinstein afte...   \n",
       "23     Hillary Clinton Suggests That Trump May Order ...   \n",
       "24     9/29 Through the 40s: HBD Cannonball & Paul, C...   \n",
       "25          Sharapova storms into Tianjin quarter-finals   \n",
       "26     10/3 Expo Park-Forbes Field Era: Pirates, Gray...   \n",
       "27            Weinstein scandal no surprise to Hollywood   \n",
       "28                  Blackhawks Roster Breakdown: Goalies   \n",
       "29     With Christian Pulisic Driving, United States ...   \n",
       "...                                                  ...   \n",
       "31128  NFL Preview: Championship Match-Ups Prove Team...   \n",
       "31129  President Trump’s Father’s Day Proclamation: D...   \n",
       "31130  Former Ambassador Andrew Young Calls for End t...   \n",
       "31131  Osama bin Laden’s older brother rents out luxu...   \n",
       "31132       WORLD WAR 3 ▲ Mr.President #004 ▲ xFrozenLPx   \n",
       "31133  HUMA ABEDIN SWORE UNDER OATH SHE GAVE UP ‘ALL ...   \n",
       "31134                                                NaN   \n",
       "31135                                                NaN   \n",
       "31137  Government Report: Islamists Building ’Paralle...   \n",
       "31140  Editor of Austria’s Largest Paper Charged with...   \n",
       "31141  This Is a Jobs Report That Democrats Can Boast...   \n",
       "31142  Christians in 2017 ’Most Persecuted Group in t...   \n",
       "31143  Florida Woman Charged in Death of Infant in ‘C...   \n",
       "31144  Time is Running Out to Stop Kratom Ban – Need ...   \n",
       "31145  The Fix Is In: NBC Affiliate Accidentally Post...   \n",
       "31146  Samsung, Kim Jong-un, Rex Tillerson: Your Morn...   \n",
       "31147  Comment on World Heaves Sigh of Relief after T...   \n",
       "31148  Ann Coulter: How to Provide Universal Health C...   \n",
       "31149  Government Forces Advancing at Damascus-Aleppo...   \n",
       "31150  Sally Yates Won’t Say If Trump Was Wiretapped ...   \n",
       "31151  Maine’s Gov. LePage Threatens To ‘Investigate’...   \n",
       "31152  Sen. McConnell: The Supreme Court Vacancy Was ...   \n",
       "31153  Nikki Haley Blasts U.N. Human Rights Office fo...   \n",
       "31155  Jakarta Bombing Kills Three Police Officers, L...   \n",
       "31156  Idiot Who Destroyed Trump Hollywood Star Gets ...   \n",
       "31157  Trump: Putin ’Very Smart’ to Not Retaliate ove...   \n",
       "31158  Rapper T.I.: Trump a ’Poster Child For White S...   \n",
       "31159  N.F.L. Playoffs: Schedule, Matchups and Odds -...   \n",
       "31160  Macy’s Is Said to Receive Takeover Approach by...   \n",
       "31162                          What Keeps the F-35 Alive   \n",
       "\n",
       "                                                    Body Label  \n",
       "0      Image copyright Getty Images\\nOn Sunday mornin...  FAKE  \n",
       "1      LONDON (Reuters) - “Last Flag Flying”, a comed...  FAKE  \n",
       "2      The feud broke into public view last week when...  FAKE  \n",
       "3      MEXICO CITY (Reuters) - Egypt’s Cheiron Holdin...  FAKE  \n",
       "4      Country singer Jason Aldean, who was performin...  FAKE  \n",
       "5      JetNation FanDuel League; Week 4\\n% of readers...  REAL  \n",
       "6      In 2012, Kansas lawmakers, led by Gov. Sam Bro...  FAKE  \n",
       "7      The Reserve Bank of India (RBI) Governor Urjit...  FAKE  \n",
       "8      Scott Pruitt, Administrator of the U.S. Enviro...  FAKE  \n",
       "9      FILE PHOTO - An Air Berlin sign is seen at an ...  FAKE  \n",
       "10     By Aaron Kesel\\nAs former White House chief of...  REAL  \n",
       "11     2017 Fantasy Football Team Defense Rankings – ...  REAL  \n",
       "12     Just Shut Up & Play Some Damn Baseball!!\\n(Bef...  REAL  \n",
       "13     FILE PHOTO: The Deloitte Company logo is seen ...  FAKE  \n",
       "14     A Potato Battery Can Light up a Room for Over ...  REAL  \n",
       "15     • The authorities found evidence that the gunm...  FAKE  \n",
       "16     The statement, which was read by her lawyer, M...  FAKE  \n",
       "17     In bold documentary style, Retro Report looks ...  FAKE  \n",
       "18     Red Flag Warning: These California Wildfires A...  REAL  \n",
       "19     In Meeting With Military, Trump Talks Of 'Calm...  REAL  \n",
       "20     Red Flag Warning: These California Wildfires A...  REAL  \n",
       "21     Vietnam Is in Great Danger, You Must Publish a...  REAL  \n",
       "22     (Reuters) - The Weinstein Co has fired co-Chai...  FAKE  \n",
       "23     Hillary Clinton Suggests That Trump May Order ...  REAL  \n",
       "24     Red Flag Warning: These California Wildfires A...  REAL  \n",
       "25     (Reuters) - Maria Sharapova overpowered Poland...  FAKE  \n",
       "26     Red Flag Warning: These California Wildfires A...  REAL  \n",
       "27     Chat with us in Facebook Messenger. Find out w...  FAKE  \n",
       "28     Blackhawks Roster Breakdown: Goalies\\n(Before ...  REAL  \n",
       "29     When Pulisic tore open the left side of the Pa...  FAKE  \n",
       "...                                                  ...   ...  \n",
       "31128  The NFL is a   league, so it should come as no...  REAL  \n",
       "31129  President Donald Trump officially declared tod...  REAL  \n",
       "31130  By Brandon Turbeville Anti-fluoridation activi...  FAKE  \n",
       "31131  Osama bin Laden’s older brother rents out luxu...  FAKE  \n",
       "31132  source Add To The Conversation Using Facebook ...  FAKE  \n",
       "31133  Home › POLITICS | US NEWS › HUMA ABEDIN SWORE ...  FAKE  \n",
       "31134  DYN's Statement on Last Week's Botnet Attack h...  FAKE  \n",
       "31135  Kinda reminds me of when Carter gave away the ...  FAKE  \n",
       "31137  Aided by a politically correct culture of “tol...  REAL  \n",
       "31140  Breitbart October 26, 2016 \\nAn editor of Aust...  FAKE  \n",
       "31141  There’s not much to say about the July jobs nu...  REAL  \n",
       "31142  In many parts of the world, Christians gatheri...  REAL  \n",
       "31143  Early on Oct. 6, Erin   was awakened by the so...  REAL  \n",
       "31144  By Brandon Turbeville When the DEA announced t...  FAKE  \n",
       "31145  Home » Headlines » World News » The Fix Is In:...  FAKE  \n",
       "31146  Good morning.  Here’s what you need to know: •...  REAL  \n",
       "31147    Finian Cunningham has written extensively on...  FAKE  \n",
       "31148  The first sentence of Congress’ Obamacare repe...  REAL  \n",
       "31149  #FROMTHEFRONT #MAPS 22.11.2016 - 1,361 views 5...  FAKE  \n",
       "31150  Former Deputy Attorney General Sally Yates dec...  REAL  \n",
       "31151  Google Pinterest Digg Linkedin Reddit Stumbleu...  FAKE  \n",
       "31152  Senate Majority Leader Mitch McConnell (R, KY)...  REAL  \n",
       "31153  U. S Ambassador to the United Nations Nikki Ha...  REAL  \n",
       "31155  Two suicide bombers attacked a bus station in ...  REAL  \n",
       "31156  Share This \\nAlthough the vandal who thought i...  FAKE  \n",
       "31157  Donald Trump took to Twitter Friday to praise ...  REAL  \n",
       "31158  Rapper T. I. unloaded on black celebrities who...  REAL  \n",
       "31159  When the Green Bay Packers lost to the Washing...  REAL  \n",
       "31160  The Macy’s of today grew from the union of sev...  REAL  \n",
       "31162    David Swanson is an author, activist, journa...  FAKE  \n",
       "\n",
       "[27865 rows x 3 columns]"
      ]
     },
     "execution_count": 13,
     "metadata": {},
     "output_type": "execute_result"
    }
   ],
   "source": [
    "df = df.drop_duplicates()\n",
    "\n",
    "# df.iloc[3647]\n",
    "# print(df['Headline'][3647])\n",
    "# print(len(df['Body'][3647]))\n",
    "#df = df.dropna(how='any',axis=0)\n",
    "cnt = 0\n",
    "ind = []\n",
    "for art in df['Body']:\n",
    "    #print(type(art))\n",
    "    if len(str(art)) < 10:\n",
    "        ind.append(cnt)\n",
    "    cnt+=1\n",
    "df = df.drop(df.index[ind])\n",
    "        \n",
    "\n",
    "df\n",
    "# print(df['Headline'][3647])\n",
    "# print(len(df['Body'][3647]))\n"
   ]
  },
  {
   "cell_type": "code",
   "execution_count": 14,
   "metadata": {},
   "outputs": [
    {
     "data": {
      "text/plain": [
       "REAL    15343\n",
       "FAKE    12522\n",
       "Name: Label, dtype: int64"
      ]
     },
     "execution_count": 14,
     "metadata": {},
     "output_type": "execute_result"
    }
   ],
   "source": [
    "df['Label'].value_counts()"
   ]
  },
  {
   "cell_type": "code",
   "execution_count": 15,
   "metadata": {},
   "outputs": [
    {
     "data": {
      "text/plain": [
       "<matplotlib.axes._subplots.AxesSubplot at 0x7efe8a634ef0>"
      ]
     },
     "execution_count": 15,
     "metadata": {},
     "output_type": "execute_result"
    },
    {
     "data": {
      "image/png": "[encoded data removed]",
      "text/plain": [
       "<Figure size 432x288 with 1 Axes>"
      ]
     },
     "metadata": {
      "needs_background": "light"
     },
     "output_type": "display_data"
    }
   ],
   "source": [
    "df['Label'].value_counts().plot(kind = 'bar')"
   ]
  },
  {
   "cell_type": "code",
   "execution_count": 16,
   "metadata": {},
   "outputs": [
    {
     "data": {
      "text/plain": [
       "count    27865.000000\n",
       "mean        69.775381\n",
       "std         24.885773\n",
       "min          1.000000\n",
       "25%         55.000000\n",
       "50%         70.000000\n",
       "75%         85.000000\n",
       "max        653.000000\n",
       "Name: headline_length, dtype: float64"
      ]
     },
     "execution_count": 16,
     "metadata": {},
     "output_type": "execute_result"
    }
   ],
   "source": [
    "df['headline_length'] = [len(str(a)) for a in df['Headline']]\n",
    "df['headline_length'].describe()"
   ]
  },
  {
   "cell_type": "code",
   "execution_count": 17,
   "metadata": {},
   "outputs": [
    {
     "data": {
      "text/plain": [
       "count     27865.000000\n",
       "mean       4429.890903\n",
       "std        4854.862554\n",
       "min          10.000000\n",
       "25%        1589.000000\n",
       "50%        3348.000000\n",
       "75%        6106.000000\n",
       "max      142961.000000\n",
       "Name: body_length, dtype: float64"
      ]
     },
     "execution_count": 17,
     "metadata": {},
     "output_type": "execute_result"
    }
   ],
   "source": [
    "df['body_length'] = [len(a) for a in df['Body']]\n",
    "df['body_length'].describe()"
   ]
  },
  {
   "cell_type": "code",
   "execution_count": 18,
   "metadata": {},
   "outputs": [
    {
     "data": {
      "text/html": [
       "<div>\n",
       "<style scoped>\n",
       "    .dataframe tbody tr th:only-of-type {\n",
       "        vertical-align: middle;\n",
       "    }\n",
       "\n",
       "    .dataframe tbody tr th {\n",
       "        vertical-align: top;\n",
       "    }\n",
       "\n",
       "    .dataframe thead th {\n",
       "        text-align: right;\n",
       "    }\n",
       "</style>\n",
       "<table border=\"1\" class=\"dataframe\">\n",
       "  <thead>\n",
       "    <tr style=\"text-align: right;\">\n",
       "      <th></th>\n",
       "      <th>headline_length</th>\n",
       "      <th>body_length</th>\n",
       "    </tr>\n",
       "  </thead>\n",
       "  <tbody>\n",
       "    <tr>\n",
       "      <th>count</th>\n",
       "      <td>27865.000000</td>\n",
       "      <td>27865.000000</td>\n",
       "    </tr>\n",
       "    <tr>\n",
       "      <th>mean</th>\n",
       "      <td>69.775381</td>\n",
       "      <td>4429.890903</td>\n",
       "    </tr>\n",
       "    <tr>\n",
       "      <th>std</th>\n",
       "      <td>24.885773</td>\n",
       "      <td>4854.862554</td>\n",
       "    </tr>\n",
       "    <tr>\n",
       "      <th>min</th>\n",
       "      <td>1.000000</td>\n",
       "      <td>10.000000</td>\n",
       "    </tr>\n",
       "    <tr>\n",
       "      <th>25%</th>\n",
       "      <td>55.000000</td>\n",
       "      <td>1589.000000</td>\n",
       "    </tr>\n",
       "    <tr>\n",
       "      <th>50%</th>\n",
       "      <td>70.000000</td>\n",
       "      <td>3348.000000</td>\n",
       "    </tr>\n",
       "    <tr>\n",
       "      <th>75%</th>\n",
       "      <td>85.000000</td>\n",
       "      <td>6106.000000</td>\n",
       "    </tr>\n",
       "    <tr>\n",
       "      <th>max</th>\n",
       "      <td>653.000000</td>\n",
       "      <td>142961.000000</td>\n",
       "    </tr>\n",
       "  </tbody>\n",
       "</table>\n",
       "</div>"
      ],
      "text/plain": [
       "       headline_length    body_length\n",
       "count     27865.000000   27865.000000\n",
       "mean         69.775381    4429.890903\n",
       "std          24.885773    4854.862554\n",
       "min           1.000000      10.000000\n",
       "25%          55.000000    1589.000000\n",
       "50%          70.000000    3348.000000\n",
       "75%          85.000000    6106.000000\n",
       "max         653.000000  142961.000000"
      ]
     },
     "execution_count": 18,
     "metadata": {},
     "output_type": "execute_result"
    }
   ],
   "source": [
    "df.describe()"
   ]
  },
  {
   "cell_type": "code",
   "execution_count": 19,
   "metadata": {},
   "outputs": [
    {
     "data": {
      "text/plain": [
       "4258     Donald Trump's GOP civil warPanama City, Flori...\n",
       "24466    What You Should Watch: Amazon Pilots and ‘Miss...\n",
       "28155    Part 4 Of O’Keefe’s Project Veritas Videos Has...\n",
       "28266    Misophonia Sufferers: Scientists May Have Foun...\n",
       "25623    IS Urges Jihadis To ’Dress Up Like Jews’, Carr...\n",
       "14063    Freedom Rider: Russophobia: War Party Propagan...\n",
       "20265    Bob Dylan, the Newest Nobel Laureate, Maintain...\n",
       "30423    Airbag Propellant Bound for Takata Factory Det...\n",
       "25876    If Clinton Goes Down, Loretta Lynch Will Go Do...\n",
       "22322    Report: NBC Cutting Back ’Today’ to Make Room ...\n",
       "5265     Re: The U.S. Will Lose Global Reserve Status, ...\n",
       "4785     What Brian Williams’s Chopper Whopper Says Abo...\n",
       "14883    Woody Harrelson Quits Smoking Pot after 30 Yea...\n",
       "25502    Be More Productive. Shorten the Workweek. - Th...\n",
       "14800    Anthony Weiner and Huma Abedin to Separate Aft...\n",
       "19216    Irwin Stambler, 92, Dies Reference Book Writer...\n",
       "690      State Department denies Tillerson called Trump...\n",
       "3586     DNA confirms amazing Australian isle insect no...\n",
       "24347    Connecticut High School Principal Denounces ’T...\n",
       "15566    Revisiting 1917, a Year That Reverberates for ...\n",
       "9081     Why I’m Suing Vanderbilt UniversityTaki's Maga...\n",
       "6194     Democrats are actually more enthusiastic than ...\n",
       "28878    The Electoral College Is Hated by Many. So Why...\n",
       "15395    U.S. Team Wins Bocuse d’Or Competition for Fir...\n",
       "29741    nanWow ever notice how when a liar is caught h...\n",
       "21980    Donald Trump Delays Moving Embassy in Israel t...\n",
       "5459     Baltimore protests: Crowds stand firm after cu...\n",
       "30498    Processed red meat found to sort you outProces...\n",
       "13586    Hedge Fund Titan’s Surefire Bet Turns Into a $...\n",
       "14951    Paul: Will a GOP Congress Ever Balance the Bud...\n",
       "                               ...                        \n",
       "9004     Sanders campaign sues DNC after database breac...\n",
       "18462    Stoke-on-Trent Imam ’Told Congregation to Supp...\n",
       "30923    Drone Restrictions Can Help Peaceful Protester...\n",
       "12516    UK to Teach ’Sex and Relationship Education’ t...\n",
       "807      9/29 Through the 40s: HBD Cannonball & Paul, C...\n",
       "10907    Woodward: Trump Dossier Is a ’Garbage Document...\n",
       "25078    Rep. DeSantis: Five Key Facts About the Obamac...\n",
       "22945    Colombia Mudslide Sends Rescuers and Relatives...\n",
       "26118    CNN: Democrats Face Their Powerlessness - Brei...\n",
       "25987    Katastrophenschutz warnt: Werwölfe heute Nacht...\n",
       "13791    Nazis sick and tired of being tarnished with s...\n",
       "28065    Snap Is Said to Pick Bankers for an I.P.O. - T...\n",
       "30812    Conway: We’re Seeing ’Hysterical’ Democratic P...\n",
       "640      Puerto Rico Hoax (Video)(Before It's News)\\nSa...\n",
       "22094    Neighbor Shoots Knife-Wielding Man Trying to D...\n",
       "11408    How to report voter fraud - Crash Course.By Sh...\n",
       "11818    Türkei: Kritischer Journalist interviewt Oppos...\n",
       "19941    Pomegranate Pistachio Pancakes - David Avocado...\n",
       "3665     The Girl in the No. 8 JerseyStacee’s family so...\n",
       "8402     Comment on Are We About To See One Of The Grea...\n",
       "18380    If You Are On Social Media, Then You Are Alrea...\n",
       "21031    Aston Martin Broadens the Brand - The New York...\n",
       "7683     Why Isn’t NSA Surveillance an Election Issue?B...\n",
       "13361    Oregon Man Accused of Trying to Shove Co-Worke...\n",
       "4840     Confirmed: Public overwhelmingly (10-to-1) say...\n",
       "7860     DNC To Sue Trump For Telling Truth: Trump Admi...\n",
       "6120     Michael Moore Owes Me $4.99(128 fans) - Advert...\n",
       "30804    Bargain-Hunting Frenzy Threatens Traditional D...\n",
       "30794    The Mothers\\nOctober 28, 2016 The Mothers by s...\n",
       "18277    Report: U.S., Russia Said Agree To Assist Isra...\n",
       "Name: Text, Length: 18669, dtype: object"
      ]
     },
     "execution_count": 19,
     "metadata": {},
     "output_type": "execute_result"
    }
   ],
   "source": [
    "df[\"Text\"] = df[\"Headline\"].map(str) + df[\"Body\"]\n",
    "y = df.Label\n",
    "y = y.astype('str')\n",
    "X_train, X_test, Y_train, Y_test = train_test_split(df['Text'],y, test_size=0.33)\n",
    "X_train"
   ]
  },
  {
   "cell_type": "code",
   "execution_count": 20,
   "metadata": {},
   "outputs": [],
   "source": [
    "#Tf-idf Bigrams\n",
    "#Initialize the `tfidf_vectorizer` \n",
    "tfidf_vectorizer = TfidfVectorizer(stop_words='english', ngram_range = (2,2)) \n",
    "\n",
    "# Fit and transform the training data \n",
    "tfidf1_train = tfidf_vectorizer.fit_transform(X_train.astype('str')) \n",
    "\n",
    "# Transform the test set \n",
    "tfidf1_test = tfidf_vectorizer.transform(X_test.astype('str'))\n",
    "\n",
    "pickle.dump(tfidf1_train, open(\"tfidf1_train.pickle\", \"wb\"))\n",
    "\n",
    "pickle.dump(tfidf1_test, open(\"tfidf1_test.pickle\", \"wb\"))"
   ]
  },
  {
   "cell_type": "code",
   "execution_count": 21,
   "metadata": {},
   "outputs": [
    {
     "data": {
      "text/plain": [
       "['中文 cooperación',\n",
       " '中文 coopération',\n",
       " '中文 التعاون',\n",
       " '大量转体 mediamass',\n",
       " '山崎 コロッケ',\n",
       " '殆ww reverbnation',\n",
       " '点击查看本文中文版 despite',\n",
       " '点击查看本文中文版 foreigner',\n",
       " '無為 translates',\n",
       " '版权所有 2012']"
      ]
     },
     "execution_count": 21,
     "metadata": {},
     "output_type": "execute_result"
    }
   ],
   "source": [
    "#Top 10 tfidf bigrams \n",
    "tfidf_vectorizer.get_feature_names()[-10:]"
   ]
  },
  {
   "cell_type": "code",
   "execution_count": 22,
   "metadata": {},
   "outputs": [
    {
     "data": {
      "text/plain": [
       "<18669x4013463 sparse matrix of type '<class 'numpy.float64'>'\n",
       "\twith 6804483 stored elements in Compressed Sparse Row format>"
      ]
     },
     "execution_count": 22,
     "metadata": {},
     "output_type": "execute_result"
    }
   ],
   "source": [
    "tfidf1_train"
   ]
  },
  {
   "cell_type": "code",
   "execution_count": 41,
   "metadata": {},
   "outputs": [],
   "source": [
    "#Confusion Matrix\n",
    "def plot_confusion_matrix(cm, classes,\n",
    "                          normalize=False,\n",
    "                          title='Confusion matrix',\n",
    "                          cmap=plt.cm.Blues):\n",
    "\n",
    "    plt.imshow(cm, interpolation='nearest', cmap=cmap)\n",
    "    plt.title(title)\n",
    "    plt.colorbar()\n",
    "    tick_marks = np.arange(len(classes))\n",
    "    plt.xticks(tick_marks, classes, rotation=45)\n",
    "    plt.yticks(tick_marks, classes)\n",
    "\n",
    "    if normalize:\n",
    "        cm = cm.astype('float') / cm.sum(axis=1)[:, np.newaxis]\n",
    "        print(\"Normalized confusion matrix\")\n",
    "    else:\n",
    "        print('Confusion matrix')\n",
    "\n",
    "    thresh = cm.max() / 2.\n",
    "    for i, j in itertools.product(range(cm.shape[0]), range(cm.shape[1])):\n",
    "        plt.text(j, i, cm[i, j],\n",
    "                 horizontalalignment=\"center\",\n",
    "                 color=\"white\" if cm[i, j] > thresh else \"black\")\n",
    "\n",
    "    plt.tight_layout()\n",
    "    plt.ylabel('True label')\n",
    "    plt.xlabel('Predicted label')"
   ]
  },
  {
   "cell_type": "code",
   "execution_count": 96,
   "metadata": {},
   "outputs": [
    {
     "name": "stdout",
     "output_type": "stream",
     "text": [
      "Accuracy with Multinomial Naive Bayes:   0.829\n"
     ]
    }
   ],
   "source": [
    "clf = MultinomialNB()\n",
    "clf.fit(tfidf1_train, Y_train)\n",
    "pickle.dump(clf, open('tfidf_nb', 'wb'))\n",
    "pred = clf.predict(tfidf1_test)\n",
    "score = metrics.accuracy_score(Y_test, pred)\n",
    "print(\"Accuracy with Multinomial Naive Bayes:   %0.3f\" % score)"
   ]
  },
  {
   "cell_type": "code",
   "execution_count": 97,
   "metadata": {},
   "outputs": [
    {
     "name": "stdout",
     "output_type": "stream",
     "text": [
      "Confusion matrix\n"
     ]
    },
    {
     "data": {
      "image/png": "[encoded data removed]",
      "text/plain": [
       "<Figure size 432x288 with 2 Axes>"
      ]
     },
     "metadata": {},
     "output_type": "display_data"
    }
   ],
   "source": [
    "cm = metrics.confusion_matrix(Y_test, pred, labels=['FAKE', 'REAL'])\n",
    "plot_confusion_matrix(cm, classes=['FAKE', 'REAL'])"
   ]
  },
  {
   "cell_type": "code",
   "execution_count": 100,
   "metadata": {},
   "outputs": [
    {
     "name": "stdout",
     "output_type": "stream",
     "text": [
      "Accuracy with Gradient Boosting:   0.847\n"
     ]
    }
   ],
   "source": [
    "clf = GradientBoostingClassifier()\n",
    "clf.fit(tfidf1_train, Y_train)\n",
    "pickle.dump(clf, open('tfidf_gb', 'wb'))\n",
    "#model = pickle.load(open('tfidf_gb', 'rb'))\n",
    "pred = clf.predict(tfidf1_test)\n",
    "score = metrics.accuracy_score(Y_test, pred)\n",
    "print(\"Accuracy with Gradient Boosting:   %0.3f\" % score)"
   ]
  },
  {
   "cell_type": "code",
   "execution_count": 101,
   "metadata": {},
   "outputs": [
    {
     "name": "stdout",
     "output_type": "stream",
     "text": [
      "Confusion matrix\n"
     ]
    },
    {
     "data": {
      "image/png": "[encoded data removed]",
      "text/plain": [
       "<Figure size 432x288 with 2 Axes>"
      ]
     },
     "metadata": {},
     "output_type": "display_data"
    }
   ],
   "source": [
    "cm = metrics.confusion_matrix(Y_test, pred, labels=['FAKE', 'REAL'])\n",
    "plot_confusion_matrix(cm, classes=['FAKE', 'REAL'])"
   ]
  },
  {
   "cell_type": "code",
   "execution_count": 102,
   "metadata": {},
   "outputs": [
    {
     "name": "stdout",
     "output_type": "stream",
     "text": [
      "Accuracy with RandomForestClassifier:   0.865\n"
     ]
    }
   ],
   "source": [
    "clf = RandomForestClassifier()\n",
    "clf.fit(tfidf1_train, Y_train)\n",
    "pickle.dump(clf, open('tfidf_rf', 'wb'))\n",
    "pred = clf.predict(tfidf1_test)\n",
    "score = metrics.accuracy_score(Y_test, pred)\n",
    "print(\"Accuracy with RandomForestClassifier:   %0.3f\" % score)"
   ]
  },
  {
   "cell_type": "code",
   "execution_count": 34,
   "metadata": {},
   "outputs": [
    {
     "name": "stdout",
     "output_type": "stream",
     "text": [
      "Confusion matrix\n"
     ]
    },
    {
     "data": {
      "image/png": "[encoded data removed]",
      "text/plain": [
       "<Figure size 432x288 with 2 Axes>"
      ]
     },
     "metadata": {},
     "output_type": "display_data"
    }
   ],
   "source": [
    "cm = metrics.confusion_matrix(Y_test, pred, labels=['FAKE', 'REAL'])\n",
    "plot_confusion_matrix(cm, classes=['FAKE', 'REAL'])"
   ]
  },
  {
   "cell_type": "code",
   "execution_count": null,
   "metadata": {},
   "outputs": [],
   "source": [
    "#Generating the POS tags for all the articles and adding a new column by replacing text with their POS tags\n",
    "nlp = spacy.load('en_core_web_sm')\n",
    "x = []\n",
    "df[\"Text\"] = df[\"Headline\"].map(str) + df[\"Body\"]\n",
    "for text in df['Text']:\n",
    "    text_new = []\n",
    "    doc = nlp(text)\n",
    "    for token in doc:\n",
    "        text_new.append(token.pos_)\n",
    "    txt = ' '.join(text_new)\n",
    "    x.append(txt)\n",
    "df['Text_pos'] = x\n",
    "df.to_pickle('newdata.pkl')"
   ]
  },
  {
   "cell_type": "code",
   "execution_count": 40,
   "metadata": {},
   "outputs": [],
   "source": [
    "df = pd.read_pickle('newdata.pkl')\n",
    "cnt = 0\n",
    "ind = []\n",
    "for art in df['Body']:\n",
    "    #print(type(art))\n",
    "    if len(str(art)) < 10:\n",
    "        ind.append(cnt)\n",
    "    cnt+=1\n",
    "df = df.drop(df.index[ind])"
   ]
  },
  {
   "cell_type": "code",
   "execution_count": 41,
   "metadata": {},
   "outputs": [
    {
     "data": {
      "text/plain": [
       "4574     PROPN PROPN PROPN VERB NOUN ADP PROPN PROPN AD...\n",
       "9417     ADV PROPN VERB PROPN ADP PROPN VERB VERB PART ...\n",
       "21627    NOUN PUNCT ADJ NOUN VERB NUM ADP VERB ADJ ADP ...\n",
       "4755     PUNCT PUNCT PUNCT PROPN PUNCT PUNCT PUNCT NOUN...\n",
       "19184    PROPN PROPN PROPN PROPN PROPN PROPN VERB VERB ...\n",
       "19182    ADP PRON VERB ADJ ADP DET PROPN ADP DET PROPN ...\n",
       "28908    NOUN VERB ADP PROPN PROPN NOUN PUNCT PUNCT PRO...\n",
       "1589     PROPN PART PROPN PUNCT PROPN SYM PROPN PROPN P...\n",
       "14069    NUM PROPN PROPN CCONJ PROPN PROPN VERB ADP PRO...\n",
       "20099    PROPN NUM PUNCT PROPN PROPN PROPN NUM PUNCT AD...\n",
       "1578     VERB PRON VERB ADP DET PROPN PROPN PRON VERB A...\n",
       "21617    PROPN PROPN PROPN PROPN ADP PROPN PROPN PROPN ...\n",
       "24919    NUM NOUN ADP PROPN PART PROPN PROPN PUNCT DET ...\n",
       "17073    PROPN VERB VERB PROPN PROPN PROPN ADV ADP NOUN...\n",
       "9210     PROPN VERB PRON ADV PUNCT ADV ADP PROPN ADJ AD...\n",
       "26110    PROPN PROPN PROPN PROPN PROPN PUNCT NOUN VERB ...\n",
       "19032    PROPN PUNCT ADJ VERB ADV ADP PROPN PROPN PUNCT...\n",
       "21120    NUM PROPN PROPN PROPN VERB DET NOUN PUNCT NOUN...\n",
       "28216    PROPN ADP PROPN PROPN PROPN PROPN PROPN ADP PR...\n",
       "3745     PROPN PROPN VERB DET PROPN PROPN PUNCT PROPN P...\n",
       "26307    ADV DET PROPN PROPN PUNCT PROPN PROPN ADV VERB...\n",
       "16599    PROPN CCONJ PROPN PROPN ADP PROPN ADP PROPN PR...\n",
       "16018    PROPN PART PROPN VERB VERB DET PROPN ADP PROPN...\n",
       "20269    PROPN PROPN VERB NOUN NOUN VERB VERB DET ADJ A...\n",
       "19783    PUNCT ADV NOUN NOUN VERB PROPN PROPN NOUN PUNC...\n",
       "11410    NOUN PUNCT PROPN PROPN PROPN PROPN PROPN CCONJ...\n",
       "22889    PROPN VERB ADP PROPN PROPN PROPN PRON VERB PAR...\n",
       "19269    PROPN PROPN PART VERB NOUN PROPN VERB ADP ADJ ...\n",
       "15738    NOUN PUNCT PROPN PROPN PROPN PROPN VERB NOUN N...\n",
       "30577    PROPN PROPN ADP PROPN PROPN PROPN PUNCT VERB A...\n",
       "                               ...                        \n",
       "10029    DET PROPN PROPN NOUN ADP PROPN CCONJ PROPN DET...\n",
       "7194     PROPN PROPN PROPN VERB DET ADJ NOUN ADP ADJ NO...\n",
       "22436    PROPN PROPN VERB PART PUNCT PROPN PROPN PROPN ...\n",
       "8468     PROPN NOUN NOUN VERB ADJ NOUN ADP NUM PUNCT NO...\n",
       "25138    PROPN PUNCT PROPN CCONJ ADV PUNCT VERB PUNCT P...\n",
       "28411    PROPN CCONJ PROPN VERB NOUN NOUN ADV ADP DET N...\n",
       "19989    PROPN PROPN PUNCT PROPN VERB VERB PROPN ADP NU...\n",
       "27388    PROPN NOUN VERB PROPN PUNCT PROPN VERB PROPN N...\n",
       "2201     PROPN PROPN PROPN NUM ADP PROPN PROPN PROPN AD...\n",
       "19867    ADJ PROPN PUNCT PROPN ADP PROPN NUM PUNCT NUM ...\n",
       "18790    PROPN PART PROPN PUNCT PROPN PART NUM PROPN PR...\n",
       "18553    NOUN ADP PROPN PROPN PROPN PROPN PROPN PART PR...\n",
       "25688    PROPN PART PROPN PROPN VERB PROPN ADP PROPN PR...\n",
       "18711    PROPN PROPN PART VERB DET PROPN PROPN PUNCT VE...\n",
       "28233    PROPN PROPN VERB PROPN PROPN PART PROPN ADP PR...\n",
       "23720    PUNCT ADP NUM NOUN PRON VERB VERB PUNCT PUNCT ...\n",
       "2642     PROPN PROPN PROPN PROPN ADP PROPN VERB ADP PRO...\n",
       "9161     PROPN PROPN PUNCT PRON VERB PROPN PROPN PART N...\n",
       "13332    PROPN NOUN PUNCT ADV ADV VERB PRON VERB DET PR...\n",
       "10227    PROPN PROPN PART PROPN PROPN PROPN PROPN PROPN...\n",
       "15856    PROPN PROPN NUM PUNCT PROPN VERB PROPN DET ADJ...\n",
       "16990    PROPN CCONJ PROPN PROPN PROPN PROPN ADP PROPN ...\n",
       "17590    ADJ NOUN ADP PROPN NUM SYM PROPN PROPN PROPN P...\n",
       "15295    PROPN PUNCT PROPN PROPN PROPN PUNCT PROPN PUNC...\n",
       "30775    PROPN PROPN VERB NOUN ADP NOUN ADP DET VERB NO...\n",
       "17756    PROPN VERB ADJ PUNCT CCONJ PROPN VERB PRON PUN...\n",
       "6451     PROPN CCONJ PROPN PROPN PART VERB PROPN PROPN ...\n",
       "26272    PROPN PROPN PUNCT PROPN VERB NOUN PUNCT NOUN N...\n",
       "8193     PROPN PROPN PROPN PROPN PART VERB PROPN ADP PR...\n",
       "10999    ADP PROPN PUNCT DET PROPN ADP PROPN PROPN PART...\n",
       "Name: Text_pos, Length: 18669, dtype: object"
      ]
     },
     "execution_count": 41,
     "metadata": {},
     "output_type": "execute_result"
    }
   ],
   "source": [
    "y = df.Label\n",
    "y = y.astype('str')\n",
    "x_train, x_test, y_train, y_test = train_test_split(df['Text_pos'],y, test_size=0.33)\n",
    "x_train"
   ]
  },
  {
   "cell_type": "code",
   "execution_count": 42,
   "metadata": {},
   "outputs": [],
   "source": [
    "#Initialize the `tfidf_vectorizer` \n",
    "tfidf_vectorizer = TfidfVectorizer(stop_words='english', ngram_range = (2,2)) \n",
    "\n",
    "# Fit and transform the training data \n",
    "tfidf_train = tfidf_vectorizer.fit_transform(x_train.astype('str')) \n",
    "\n",
    "# Transform the test set \n",
    "tfidf_test = tfidf_vectorizer.transform(x_test.astype('str'))\n",
    "\n",
    "pickle.dump(tfidf_train, open(\"tfidf_train.pickle\", \"wb\"))\n",
    "\n",
    "pickle.dump(tfidf_test, open(\"tfidf_test.pickle\", \"wb\"))"
   ]
  },
  {
   "cell_type": "code",
   "execution_count": 28,
   "metadata": {},
   "outputs": [
    {
     "data": {
      "text/plain": [
       "['verb det',\n",
       " 'verb intj',\n",
       " 'verb noun',\n",
       " 'verb num',\n",
       " 'verb pron',\n",
       " 'verb propn',\n",
       " 'verb punct',\n",
       " 'verb space',\n",
       " 'verb sym',\n",
       " 'verb verb']"
      ]
     },
     "execution_count": 28,
     "metadata": {},
     "output_type": "execute_result"
    }
   ],
   "source": [
    "tfidf_vectorizer.get_feature_names()[-10:]"
   ]
  },
  {
   "cell_type": "code",
   "execution_count": 29,
   "metadata": {},
   "outputs": [
    {
     "data": {
      "text/plain": [
       "<18772x196 sparse matrix of type '<class 'numpy.float64'>'\n",
       "\twith 1612837 stored elements in Compressed Sparse Row format>"
      ]
     },
     "execution_count": 29,
     "metadata": {},
     "output_type": "execute_result"
    }
   ],
   "source": [
    "tfidf_train"
   ]
  },
  {
   "cell_type": "code",
   "execution_count": 30,
   "metadata": {},
   "outputs": [
    {
     "name": "stdout",
     "output_type": "stream",
     "text": [
      "Accuracy with Multinomial Naive Bayes:   0.665\n"
     ]
    }
   ],
   "source": [
    "clf = MultinomialNB()\n",
    "clf.fit(tfidf_train, y_train)\n",
    "pickle.dump(clf, open('pos_nb', 'wb'))\n",
    "pred = clf.predict(tfidf_test)\n",
    "score = metrics.accuracy_score(y_test, pred)\n",
    "print(\"Accuracy with Multinomial Naive Bayes:   %0.3f\" % score)"
   ]
  },
  {
   "cell_type": "code",
   "execution_count": 43,
   "metadata": {},
   "outputs": [
    {
     "name": "stdout",
     "output_type": "stream",
     "text": [
      "Confusion matrix\n"
     ]
    },
    {
     "data": {
      "image/png": "[encoded data removed]",
      "text/plain": [
       "<Figure size 432x288 with 2 Axes>"
      ]
     },
     "metadata": {},
     "output_type": "display_data"
    }
   ],
   "source": [
    "cm = metrics.confusion_matrix(y_test, pred, labels=['FAKE', 'REAL'])\n",
    "plot_confusion_matrix(cm, classes=['FAKE', 'REAL'])"
   ]
  },
  {
   "cell_type": "code",
   "execution_count": 44,
   "metadata": {},
   "outputs": [
    {
     "name": "stdout",
     "output_type": "stream",
     "text": [
      "Accuracy with RandomForestClassifier:   0.866\n"
     ]
    }
   ],
   "source": [
    "clf = RandomForestClassifier()\n",
    "clf.fit(tfidf_train, y_train)\n",
    "pickle.dump(clf, open('pos_rf', 'wb'))\n",
    "pred = clf.predict(tfidf_test)\n",
    "score = metrics.accuracy_score(y_test, pred)\n",
    "print(\"Accuracy with RandomForestClassifier:   %0.3f\" % score)"
   ]
  },
  {
   "cell_type": "code",
   "execution_count": 45,
   "metadata": {},
   "outputs": [
    {
     "name": "stdout",
     "output_type": "stream",
     "text": [
      "Confusion matrix\n"
     ]
    },
    {
     "data": {
      "image/png": "[encoded data removed]",
      "text/plain": [
       "<Figure size 432x288 with 2 Axes>"
      ]
     },
     "metadata": {},
     "output_type": "display_data"
    }
   ],
   "source": [
    "cm = metrics.confusion_matrix(y_test, pred, labels=['FAKE', 'REAL'])\n",
    "plot_confusion_matrix(cm, classes=['FAKE', 'REAL'])"
   ]
  },
  {
   "cell_type": "code",
   "execution_count": 46,
   "metadata": {},
   "outputs": [
    {
     "name": "stdout",
     "output_type": "stream",
     "text": [
      "Accuracy with Gradient Boosting:   0.883\n"
     ]
    }
   ],
   "source": [
    "clf = GradientBoostingClassifier()\n",
    "clf.fit(tfidf_train, y_train)\n",
    "pickle.dump(clf, open('pos_gb', 'wb'))\n",
    "pred = clf.predict(tfidf_test)\n",
    "score = metrics.accuracy_score(y_test, pred)\n",
    "print(\"Accuracy with Gradient Boosting:   %0.3f\" % score)"
   ]
  },
  {
   "cell_type": "code",
   "execution_count": 47,
   "metadata": {},
   "outputs": [
    {
     "name": "stdout",
     "output_type": "stream",
     "text": [
      "Confusion matrix\n"
     ]
    },
    {
     "data": {
      "image/png": "[encoded data removed]",
      "text/plain": [
       "<Figure size 432x288 with 2 Axes>"
      ]
     },
     "metadata": {},
     "output_type": "display_data"
    }
   ],
   "source": [
    "cm = metrics.confusion_matrix(y_test, pred, labels=['FAKE', 'REAL'])\n",
    "plot_confusion_matrix(cm, classes=['FAKE', 'REAL'])"
   ]
  },
  {
   "cell_type": "code",
   "execution_count": 31,
   "metadata": {},
   "outputs": [],
   "source": [
    "#Getting the score of semantic categories generated by Empath of each article and generating a tfidf vector of the unigrams \n",
    "lexicon = Empath()\n",
    "semantic = []\n",
    "cnt = 0\n",
    "df[\"Text\"] = df[\"Headline\"].map(str) + df[\"Body\"]\n",
    "\n",
    "for article in df['Text']:\n",
    "    if article == '':\n",
    "        continue\n",
    "    cnt+=1\n",
    "    d = lexicon.analyze(article, normalize = False)\n",
    "    x = []\n",
    "    for key, value in d.items():\n",
    "        x.append(value)\n",
    "    x = np.asarray(x)\n",
    "    semantic.append(x)\n",
    "df['Semantic'] = semantic"
   ]
  },
  {
   "cell_type": "code",
   "execution_count": 32,
   "metadata": {},
   "outputs": [
    {
     "data": {
      "text/plain": [
       "['exercise',\n",
       " 'horror',\n",
       " 'hearing',\n",
       " 'college',\n",
       " 'science',\n",
       " 'car',\n",
       " 'government',\n",
       " 'toy',\n",
       " 'rural',\n",
       " 'poor',\n",
       " 'strength',\n",
       " 'music',\n",
       " 'weather',\n",
       " 'payment',\n",
       " 'disappointment',\n",
       " 'dispute',\n",
       " 'leader',\n",
       " 'trust',\n",
       " 'shame',\n",
       " 'help',\n",
       " 'musical',\n",
       " 'appearance',\n",
       " 'breaking',\n",
       " 'ocean',\n",
       " 'clothing',\n",
       " 'farming',\n",
       " 'traveling',\n",
       " 'fabric',\n",
       " 'social_media',\n",
       " 'nervousness',\n",
       " 'pride',\n",
       " 'joy',\n",
       " 'achievement',\n",
       " 'zest',\n",
       " 'writing',\n",
       " 'ridicule',\n",
       " 'anticipation',\n",
       " 'suffering',\n",
       " 'leisure',\n",
       " 'driving',\n",
       " 'party',\n",
       " 'occupation',\n",
       " 'sympathy',\n",
       " 'reading',\n",
       " 'power',\n",
       " 'banking',\n",
       " 'communication',\n",
       " 'healing',\n",
       " 'ancient',\n",
       " 'masculine',\n",
       " 'emotional',\n",
       " 'affection',\n",
       " 'messaging',\n",
       " 'cooking',\n",
       " 'terrorism',\n",
       " 'swimming',\n",
       " 'confusion',\n",
       " 'death',\n",
       " 'negative_emotion',\n",
       " 'sound',\n",
       " 'valuable',\n",
       " 'beach',\n",
       " 'law',\n",
       " 'beauty',\n",
       " 'anger',\n",
       " 'superhero',\n",
       " 'sailing',\n",
       " 'restaurant',\n",
       " 'family',\n",
       " 'cold',\n",
       " 'rage',\n",
       " 'economics',\n",
       " 'cleaning',\n",
       " 'play',\n",
       " 'exasperation',\n",
       " 'exotic',\n",
       " 'weapon',\n",
       " 'positive_emotion',\n",
       " 'ugliness',\n",
       " 'royalty',\n",
       " 'speaking',\n",
       " 'dominant_personality',\n",
       " 'politics',\n",
       " 'hygiene',\n",
       " 'feminine',\n",
       " 'alcohol',\n",
       " 'religion',\n",
       " 'violence',\n",
       " 'envy',\n",
       " 'medical_emergency',\n",
       " 'fight',\n",
       " 'animal',\n",
       " 'domestic_work',\n",
       " 'war',\n",
       " 'contentment',\n",
       " 'phone',\n",
       " 'shape_and_size',\n",
       " 'timidity',\n",
       " 'independence',\n",
       " 'business',\n",
       " 'torment',\n",
       " 'internet',\n",
       " 'heroic',\n",
       " 'vacation',\n",
       " 'crime',\n",
       " 'gain',\n",
       " 'philosophy',\n",
       " 'divine',\n",
       " 'giving',\n",
       " 'money',\n",
       " 'love',\n",
       " 'home',\n",
       " 'monster',\n",
       " 'sexual',\n",
       " 'blue_collar_job',\n",
       " 'meeting',\n",
       " 'dance',\n",
       " 'stealing',\n",
       " 'noise',\n",
       " 'sadness',\n",
       " 'school',\n",
       " 'order',\n",
       " 'fire',\n",
       " 'plant',\n",
       " 'neglect',\n",
       " 'vehicle',\n",
       " 'ship',\n",
       " 'smell',\n",
       " 'legend',\n",
       " 'weakness',\n",
       " 'worship',\n",
       " 'fashion',\n",
       " 'negotiate',\n",
       " 'movement',\n",
       " 'journalism',\n",
       " 'sleep',\n",
       " 'fear',\n",
       " 'celebration',\n",
       " 'programming',\n",
       " 'children',\n",
       " 'work',\n",
       " 'childish',\n",
       " 'medieval',\n",
       " 'night',\n",
       " 'friends',\n",
       " 'urban',\n",
       " 'dominant_heirarchical',\n",
       " 'body',\n",
       " 'surprise',\n",
       " 'youth',\n",
       " 'hipster',\n",
       " 'aggression',\n",
       " 'wealthy',\n",
       " 'competing',\n",
       " 'shopping',\n",
       " 'lust',\n",
       " 'furniture',\n",
       " 'warmth',\n",
       " 'wedding',\n",
       " 'art',\n",
       " 'optimism',\n",
       " 'real_estate',\n",
       " 'fun',\n",
       " 'office',\n",
       " 'military',\n",
       " 'irritability',\n",
       " 'water',\n",
       " 'cheerfulness',\n",
       " 'sports',\n",
       " 'pain',\n",
       " 'politeness',\n",
       " 'technology',\n",
       " 'injury',\n",
       " 'health',\n",
       " 'prison',\n",
       " 'anonymity',\n",
       " 'computer',\n",
       " 'disgust',\n",
       " 'hate',\n",
       " 'pet',\n",
       " 'eating',\n",
       " 'white_collar_job',\n",
       " 'liquid',\n",
       " 'kill',\n",
       " 'attractive',\n",
       " 'hiking',\n",
       " 'magic',\n",
       " 'air_travel',\n",
       " 'deception',\n",
       " 'morning',\n",
       " 'swearing_terms',\n",
       " 'tourism',\n",
       " 'listen',\n",
       " 'tool']"
      ]
     },
     "execution_count": 32,
     "metadata": {},
     "output_type": "execute_result"
    }
   ],
   "source": [
    "categories = []\n",
    "a = lexicon.analyze(\"\")\n",
    "for key, value in a.items():\n",
    "    categories.append(key)\n",
    "categories"
   ]
  },
  {
   "cell_type": "code",
   "execution_count": 33,
   "metadata": {},
   "outputs": [],
   "source": [
    "#TF-IDF vector by taking the score for a semantic class as its frequency.\n",
    "sem = []\n",
    "for i in range(df.shape[0]):\n",
    "    a = []\n",
    "    for j in range(len(semantic[0])):\n",
    "        for k in range(int(semantic[i][j])):\n",
    "            a.append(categories[j])\n",
    "    b = \" \".join(a)\n",
    "    sem.append(b)\n",
    "#print(len(sem))\n",
    "df['Semantics'] = sem\n",
    "df.to_pickle('Semantic.pkl')"
   ]
  },
  {
   "cell_type": "code",
   "execution_count": 34,
   "metadata": {},
   "outputs": [
    {
     "name": "stdout",
     "output_type": "stream",
     "text": [
      "Index(['Headline', 'Body', 'Label', 'headline_length', 'body_length',\n",
      "       'Body_pos', 'Text_pos', 'Text', 'Semantic', 'Semantics'],\n",
      "      dtype='object')\n",
      "(27865, 10)\n"
     ]
    }
   ],
   "source": [
    "df = pd.read_pickle('Semantic.pkl')\n",
    "print(df.columns)\n",
    "print(df.shape)"
   ]
  },
  {
   "cell_type": "code",
   "execution_count": 45,
   "metadata": {},
   "outputs": [
    {
     "data": {
      "text/plain": [
       "11942    [3.0, 1.0, 0.0, 0.0, 0.0, 2.0, 0.0, 0.0, 0.0, ...\n",
       "16974    [0.0, 0.0, 0.0, 2.0, 5.0, 0.0, 2.0, 1.0, 0.0, ...\n",
       "27421    [10.0, 6.0, 0.0, 7.0, 5.0, 2.0, 0.0, 10.0, 0.0...\n",
       "2099     [0.0, 3.0, 0.0, 0.0, 2.0, 0.0, 0.0, 0.0, 0.0, ...\n",
       "456      [1.0, 0.0, 0.0, 0.0, 1.0, 0.0, 0.0, 1.0, 1.0, ...\n",
       "20244    [4.0, 10.0, 0.0, 1.0, 2.0, 3.0, 1.0, 37.0, 0.0...\n",
       "18196    [2.0, 2.0, 0.0, 0.0, 0.0, 0.0, 0.0, 0.0, 0.0, ...\n",
       "4110     [6.0, 4.0, 1.0, 33.0, 3.0, 1.0, 0.0, 10.0, 0.0...\n",
       "7468     [3.0, 0.0, 0.0, 0.0, 4.0, 3.0, 1.0, 0.0, 2.0, ...\n",
       "16502    [0.0, 0.0, 0.0, 5.0, 2.0, 0.0, 0.0, 0.0, 0.0, ...\n",
       "18146    [3.0, 4.0, 0.0, 9.0, 1.0, 2.0, 1.0, 5.0, 2.0, ...\n",
       "6491     [0.0, 0.0, 0.0, 0.0, 1.0, 0.0, 0.0, 0.0, 0.0, ...\n",
       "111      [1.0, 1.0, 1.0, 1.0, 0.0, 3.0, 0.0, 0.0, 0.0, ...\n",
       "9181     [7.0, 0.0, 0.0, 0.0, 2.0, 0.0, 0.0, 0.0, 1.0, ...\n",
       "30433    [8.0, 8.0, 4.0, 3.0, 2.0, 0.0, 0.0, 2.0, 0.0, ...\n",
       "14557    [6.0, 0.0, 0.0, 2.0, 5.0, 1.0, 2.0, 0.0, 2.0, ...\n",
       "4720     [0.0, 0.0, 0.0, 0.0, 0.0, 0.0, 0.0, 0.0, 0.0, ...\n",
       "3608     [2.0, 0.0, 0.0, 0.0, 0.0, 0.0, 1.0, 3.0, 0.0, ...\n",
       "13548    [1.0, 3.0, 1.0, 2.0, 10.0, 0.0, 0.0, 0.0, 2.0,...\n",
       "2625     [1.0, 0.0, 0.0, 0.0, 0.0, 1.0, 0.0, 0.0, 0.0, ...\n",
       "18943    [0.0, 0.0, 0.0, 0.0, 0.0, 0.0, 0.0, 0.0, 0.0, ...\n",
       "718      [0.0, 0.0, 0.0, 0.0, 1.0, 1.0, 0.0, 0.0, 0.0, ...\n",
       "27068    [0.0, 3.0, 9.0, 1.0, 0.0, 1.0, 1.0, 0.0, 1.0, ...\n",
       "19956    [0.0, 1.0, 0.0, 1.0, 2.0, 1.0, 0.0, 0.0, 0.0, ...\n",
       "10544    [1.0, 2.0, 3.0, 1.0, 2.0, 2.0, 4.0, 0.0, 2.0, ...\n",
       "23551    [5.0, 21.0, 2.0, 0.0, 2.0, 2.0, 2.0, 0.0, 2.0,...\n",
       "7966     [1.0, 3.0, 1.0, 0.0, 0.0, 0.0, 1.0, 0.0, 0.0, ...\n",
       "5769     [8.0, 1.0, 0.0, 4.0, 5.0, 3.0, 1.0, 0.0, 0.0, ...\n",
       "2996     [1.0, 3.0, 0.0, 1.0, 0.0, 1.0, 0.0, 0.0, 0.0, ...\n",
       "18231    [1.0, 1.0, 0.0, 1.0, 1.0, 2.0, 1.0, 0.0, 0.0, ...\n",
       "                               ...                        \n",
       "3976     [0.0, 0.0, 0.0, 0.0, 0.0, 0.0, 0.0, 0.0, 0.0, ...\n",
       "16011    [5.0, 3.0, 1.0, 2.0, 3.0, 2.0, 1.0, 1.0, 0.0, ...\n",
       "30158    [1.0, 0.0, 0.0, 4.0, 0.0, 0.0, 1.0, 0.0, 0.0, ...\n",
       "24756    [1.0, 1.0, 1.0, 29.0, 4.0, 12.0, 3.0, 0.0, 0.0...\n",
       "9744     [0.0, 0.0, 0.0, 0.0, 0.0, 0.0, 2.0, 0.0, 0.0, ...\n",
       "6742     [0.0, 0.0, 0.0, 0.0, 0.0, 0.0, 0.0, 0.0, 0.0, ...\n",
       "29164    [0.0, 1.0, 0.0, 1.0, 0.0, 0.0, 0.0, 0.0, 2.0, ...\n",
       "22397    [1.0, 1.0, 0.0, 0.0, 0.0, 0.0, 2.0, 0.0, 0.0, ...\n",
       "23677    [0.0, 1.0, 0.0, 0.0, 3.0, 0.0, 0.0, 1.0, 1.0, ...\n",
       "17697    [3.0, 5.0, 0.0, 2.0, 6.0, 1.0, 0.0, 0.0, 0.0, ...\n",
       "9816     [0.0, 0.0, 0.0, 0.0, 0.0, 1.0, 1.0, 1.0, 1.0, ...\n",
       "25184    [0.0, 1.0, 1.0, 1.0, 0.0, 0.0, 3.0, 0.0, 0.0, ...\n",
       "10549    [0.0, 0.0, 0.0, 0.0, 0.0, 0.0, 0.0, 0.0, 0.0, ...\n",
       "28306    [4.0, 3.0, 1.0, 11.0, 2.0, 4.0, 1.0, 5.0, 18.0...\n",
       "9630     [4.0, 2.0, 0.0, 2.0, 1.0, 0.0, 1.0, 3.0, 1.0, ...\n",
       "22319    [0.0, 0.0, 1.0, 0.0, 1.0, 0.0, 0.0, 0.0, 0.0, ...\n",
       "22338    [0.0, 0.0, 0.0, 0.0, 0.0, 0.0, 0.0, 0.0, 0.0, ...\n",
       "3762     [3.0, 1.0, 0.0, 3.0, 2.0, 0.0, 0.0, 0.0, 1.0, ...\n",
       "713      [3.0, 3.0, 0.0, 14.0, 0.0, 1.0, 0.0, 0.0, 0.0,...\n",
       "19414    [0.0, 2.0, 0.0, 1.0, 4.0, 2.0, 0.0, 0.0, 0.0, ...\n",
       "20956    [6.0, 2.0, 3.0, 4.0, 3.0, 0.0, 0.0, 0.0, 1.0, ...\n",
       "14044    [2.0, 3.0, 0.0, 6.0, 0.0, 0.0, 0.0, 0.0, 1.0, ...\n",
       "29172    [1.0, 2.0, 4.0, 1.0, 0.0, 0.0, 0.0, 2.0, 0.0, ...\n",
       "29737    [0.0, 0.0, 0.0, 0.0, 0.0, 0.0, 1.0, 0.0, 0.0, ...\n",
       "12776    [1.0, 4.0, 0.0, 1.0, 1.0, 0.0, 0.0, 0.0, 0.0, ...\n",
       "2003     [0.0, 1.0, 0.0, 1.0, 0.0, 1.0, 1.0, 1.0, 2.0, ...\n",
       "4296     [1.0, 1.0, 0.0, 0.0, 0.0, 0.0, 0.0, 0.0, 0.0, ...\n",
       "18732    [6.0, 8.0, 2.0, 0.0, 2.0, 0.0, 0.0, 1.0, 3.0, ...\n",
       "10326    [4.0, 2.0, 4.0, 6.0, 3.0, 1.0, 0.0, 1.0, 2.0, ...\n",
       "3600     [4.0, 3.0, 0.0, 0.0, 0.0, 0.0, 0.0, 3.0, 0.0, ...\n",
       "Name: Semantic, Length: 18669, dtype: object"
      ]
     },
     "execution_count": 45,
     "metadata": {},
     "output_type": "execute_result"
    }
   ],
   "source": [
    "y = df.Label\n",
    "y = y.astype('str')\n",
    "x_train, x_test, y_train, y_test = train_test_split(df['Semantics'],y, test_size=0.33)\n",
    "x_train"
   ]
  },
  {
   "cell_type": "code",
   "execution_count": null,
   "metadata": {},
   "outputs": [],
   "source": [
    "print(type(x_train))\n",
    "print(x_train.shape)"
   ]
  },
  {
   "cell_type": "code",
   "execution_count": null,
   "metadata": {},
   "outputs": [],
   "source": [
    "#Initialize the `tfidf_vectorizer` \n",
    "tfidf2_vectorizer = TfidfVectorizer(stop_words='english', ngram_range = (1,1)) \n",
    "\n",
    "# Fit and transform the training data \n",
    "tfidf2_train = tfidf2_vectorizer.fit_transform(x_train.astype('str')) \n",
    "\n",
    "# Transform the test set \n",
    "tfidf2_test = tfidf2_vectorizer.transform(x_test.astype('str'))\n",
    "\n",
    "pickle.dump(tfidf2_train, open(\"tfidf2_train.pickle\", \"wb\"))\n",
    "\n",
    "pickle.dump(tfidf2_test, open(\"tfidf2_test.pickle\", \"wb\"))"
   ]
  },
  {
   "cell_type": "code",
   "execution_count": null,
   "metadata": {},
   "outputs": [],
   "source": [
    "clf = MultinomialNB()\n",
    "#type(x_train.tolist())\n",
    "clf.fit(x_train.tolist(), y_train)\n",
    "pickle.dump(clf, open('sem_nb', 'wb'))\n",
    "pred = clf.predict(x_test.tolist())\n",
    "score = metrics.accuracy_score(y_test, pred)\n",
    "print(\"Accuracy with Multinomial Naive Bayes:   %0.3f\" % score)"
   ]
  },
  {
   "cell_type": "code",
   "execution_count": null,
   "metadata": {},
   "outputs": [],
   "source": [
    "clf = RandomForestClassifier()\n",
    "clf.fit(x_train.tolist(), y_train)\n",
    "pickle.dump(clf, open('sem_rf', 'wb'))\n",
    "pred = clf.predict(x_test.tolist())\n",
    "score = metrics.accuracy_score(y_test, pred)\n",
    "print(\"Accuracy with RandomForestClassifier:   %0.3f\" % score)"
   ]
  },
  {
   "cell_type": "code",
   "execution_count": null,
   "metadata": {},
   "outputs": [],
   "source": [
    "cm = metrics.confusion_matrix(y_test, pred, labels=['FAKE', 'REAL'])\n",
    "plot_confusion_matrix(cm, classes=['FAKE', 'REAL'])"
   ]
  },
  {
   "cell_type": "code",
   "execution_count": null,
   "metadata": {},
   "outputs": [],
   "source": [
    "clf = GradientBoostingClassifier()\n",
    "clf.fit(x_train.tolist(), y_train)\n",
    "pickle.dump(clf, open('sem_gb', 'wb'))\n",
    "pred = clf.predict(x_test.tolist())\n",
    "score = metrics.accuracy_score(y_test, pred)\n",
    "print(\"Accuracy with Gradient Boosting:   %0.3f\" % score)"
   ]
  },
  {
   "cell_type": "code",
   "execution_count": 58,
   "metadata": {},
   "outputs": [
    {
     "name": "stdout",
     "output_type": "stream",
     "text": [
      "Confusion matrix\n"
     ]
    },
    {
     "data": {
      "image/png": "[encoded data removed]",
      "text/plain": [
       "<Figure size 432x288 with 2 Axes>"
      ]
     },
     "metadata": {},
     "output_type": "display_data"
    }
   ],
   "source": [
    "cm = metrics.confusion_matrix(y_test, pred, labels=['FAKE', 'REAL'])\n",
    "plot_confusion_matrix(cm, classes=['FAKE', 'REAL'])"
   ]
  },
  {
   "cell_type": "code",
   "execution_count": null,
   "metadata": {},
   "outputs": [],
   "source": [
    "#Combining the 3 feature vectors\n",
    "import scipy.sparse as sp\n",
    "# ui = sp.vstack(tfidf_train, tfidf1_train)\n",
    "# yu = tfidf_train.data.tolist()\n",
    "# yu.append(tfidf1_train.tolist())\n",
    "# test = tfidf_test.data.tolist() + x_test.tolist()\n",
    "#print(type(tfidf_train), tfidf_train.shape)\n",
    "#print(type(tfidf1_train), tfidf1_train.shape)\n",
    "# print(type(x_train), x_train.shape)\n",
    "diff_n_rows = tfidf_train.shape[0] - tfidf1_train.shape[0]\n",
    "\n",
    "Xb_new = sp.vstack((tfidf1_train, sp.csr_matrix((diff_n_rows, tfidf1_train.shape[1])))) \n",
    "#where diff_n_rows is the difference of the number of rows between Xa and Xb\n",
    "\n",
    "c = sp.hstack((tfidf_train, Xb_new))\n",
    "\n",
    "diff_n_rows = c.shape[0] - tfidf2_train.shape[0]\n",
    "\n",
    "Xb_new = sp.vstack((tfidf2_train, sp.csr_matrix((diff_n_rows, tfidf2_train.shape[1])))) \n",
    "#where diff_n_rows is the difference of the number of rows between Xa and Xb\n",
    "\n",
    "X = sp.hstack((c, Xb_new))\n",
    "X\n",
    "\n",
    "dif_n_rows = tfidf_test.shape[0] - tfidf1_test.shape[0]\n",
    "\n",
    "Xb_ne = sp.vstack((tfidf1_test, sp.csr_matrix((dif_n_rows, tfidf1_test.shape[1])))) \n",
    "#where diff_n_rows is the difference of the number of rows between Xa and Xb\n",
    "\n",
    "d = sp.hstack((tfidf_test, Xb_ne))\n",
    "\n",
    "dif_n_rows = d.shape[0] - tfidf2_test.shape[0]\n",
    "\n",
    "Xb_ne = sp.vstack((tfidf2_test, sp.csr_matrix((dif_n_rows, tfidf2_test.shape[1])))) \n",
    "#where diff_n_rows is the difference of the number of rows between Xa and Xb\n",
    "\n",
    "Y = sp.hstack((d, Xb_ne))\n",
    "\n"
   ]
  },
  {
   "cell_type": "code",
   "execution_count": null,
   "metadata": {},
   "outputs": [],
   "source": [
    "clf = MultinomialNB()\n",
    "#print(type(train), type(y_train.tolist()))\n",
    "clf.fit(X, y_train)\n",
    "pickle.dump(clf, open('pos_sem_nb', 'wb'))\n",
    "pred = clf.predict(Y)\n",
    "score = metrics.accuracy_score(y_test, pred)\n",
    "print(\"Accuracy with Multinomial Naive Bayes:   %0.3f\" % score)"
   ]
  },
  {
   "cell_type": "code",
   "execution_count": null,
   "metadata": {},
   "outputs": [],
   "source": [
    "clf = RandomForestClassifier()\n",
    "clf.fit(X, y_train)\n",
    "pickle.dump(clf, open('pos_sem_rf', 'wb'))\n",
    "pred = clf.predict(Y)\n",
    "score = metrics.accuracy_score(y_test, pred)\n",
    "print(\"Accuracy with RandomForestClassifier:   %0.3f\" % score)"
   ]
  },
  {
   "cell_type": "code",
   "execution_count": null,
   "metadata": {},
   "outputs": [],
   "source": [
    "cm = metrics.confusion_matrix(y_test, pred, labels=['FAKE', 'REAL'])\n",
    "plot_confusion_matrix(cm, classes=['FAKE', 'REAL'])"
   ]
  },
  {
   "cell_type": "code",
   "execution_count": 174,
   "metadata": {},
   "outputs": [
    {
     "name": "stdout",
     "output_type": "stream",
     "text": [
      "Accuracy with Gradient Boosting:   0.882\n"
     ]
    }
   ],
   "source": [
    "clf = GradientBoostingClassifier()\n",
    "clf.fit(X, y_train)\n",
    "pickle.dump(clf, open('pos_sem_gb', 'wb'))\n",
    "pred = clf.predict(Y)\n",
    "score = metrics.accuracy_score(y_test, pred)\n",
    "print(\"Accuracy with Gradient Boosting:   %0.3f\" % score)"
   ]
  },
  {
   "cell_type": "code",
   "execution_count": 175,
   "metadata": {
    "scrolled": true
   },
   "outputs": [
    {
     "name": "stdout",
     "output_type": "stream",
     "text": [
      "Confusion matrix\n"
     ]
    },
    {
     "data": {
      "image/png": "[encoded data removed]",
      "text/plain": [
       "<Figure size 432x288 with 2 Axes>"
      ]
     },
     "metadata": {},
     "output_type": "display_data"
    }
   ],
   "source": [
    "cm = metrics.confusion_matrix(y_test, pred, labels=['FAKE', 'REAL'])\n",
    "plot_confusion_matrix(cm, classes=['FAKE', 'REAL'])"
   ]
  },
  {
   "cell_type": "code",
   "execution_count": null,
   "metadata": {},
   "outputs": [],
   "source": []
  },
  {
   "cell_type": "code",
   "execution_count": null,
   "metadata": {},
   "outputs": [],
   "source": []
  },
  {
   "cell_type": "code",
   "execution_count": 164,
   "metadata": {},
   "outputs": [
    {
     "name": "stdout",
     "output_type": "stream",
     "text": [
      "Index(['Headline', 'Body', 'Label', 'headline_length', 'body_length',\n",
      "       'Body_pos', 'Text_pos', 'Text', 'Semantic', 'Semantics'],\n",
      "      dtype='object')\n",
      "(27865, 10)\n"
     ]
    }
   ],
   "source": [
    "#Directly loading the final dateframe by loading the pickle file from the previously saved pickle file\n",
    "df = pd.read_pickle('Semantic.pkl')\n",
    "print(df.columns)\n",
    "print(df.shape)"
   ]
  },
  {
   "cell_type": "code",
   "execution_count": 165,
   "metadata": {},
   "outputs": [],
   "source": [
    "y = df.Label\n",
    "x_train, x_test, y_train, y_test = train_test_split(df,y, test_size=0.33)"
   ]
  },
  {
   "cell_type": "code",
   "execution_count": 166,
   "metadata": {},
   "outputs": [],
   "source": [
    "x_train_text = x_train['Text']\n",
    "x_test_text = x_test['Text']\n",
    "x_train_text_pos = x_train['Text_pos']\n",
    "x_test_text_pos = x_test['Text_pos']\n",
    "x_train_semantics = x_train['Semantics']\n",
    "x_test_semantics = x_test['Semantics']"
   ]
  },
  {
   "cell_type": "code",
   "execution_count": 167,
   "metadata": {},
   "outputs": [],
   "source": [
    "#Tf-idf Bigrams\n",
    "#Initialize the `tfidf_vectorizer` \n",
    "tfidf_vectorizer = TfidfVectorizer(stop_words='english', ngram_range = (2,2), max_features = 20000) \n",
    "\n",
    "# Fit and transform the training data \n",
    "tfidf1_train = tfidf_vectorizer.fit_transform(x_train_text.astype('str')) \n",
    "\n",
    "# Transform the test set \n",
    "tfidf1_test = tfidf_vectorizer.transform(x_test_text.astype('str'))\n",
    "\n",
    "pickle.dump(tfidf1_train, open(\"tfidf1_train.pickle\", \"wb\"))\n",
    "\n",
    "pickle.dump(tfidf1_test, open(\"tfidf1_test.pickle\", \"wb\"))"
   ]
  },
  {
   "cell_type": "code",
   "execution_count": 168,
   "metadata": {},
   "outputs": [],
   "source": [
    "#POS\n",
    "#Initialize the `tfidf_vectorizer` \n",
    "tfidf_vectorizer = TfidfVectorizer(stop_words='english', ngram_range = (2,2)) \n",
    "\n",
    "# Fit and transform the training data \n",
    "tfidf_train = tfidf_vectorizer.fit_transform(x_train_text_pos.astype('str')) \n",
    "\n",
    "# Transform the test set \n",
    "tfidf_test = tfidf_vectorizer.transform(x_test_text_pos.astype('str'))\n",
    "\n",
    "pickle.dump(tfidf_train, open(\"tfidf_train.pickle\", \"wb\"))\n",
    "\n",
    "pickle.dump(tfidf_test, open(\"tfidf_test.pickle\", \"wb\"))"
   ]
  },
  {
   "cell_type": "code",
   "execution_count": 169,
   "metadata": {},
   "outputs": [],
   "source": [
    "\n",
    "#Initialize the `tfidf_vectorizer` \n",
    "tfidf_vectorizer = TfidfVectorizer(stop_words='english', ngram_range = (1,1)) \n",
    "\n",
    "# Fit and transform the training data \n",
    "tfidf2_train = tfidf_vectorizer.fit_transform(x_train_semantics.astype('str')) \n",
    "\n",
    "# Transform the test set \n",
    "tfidf2_test = tfidf_vectorizer.transform(x_test_semantics.astype('str'))\n",
    "\n",
    "pickle.dump(tfidf2_train, open(\"tfidf_train.pickle\", \"wb\"))\n",
    "\n",
    "pickle.dump(tfidf2_test, open(\"tfidf_test.pickle\", \"wb\"))"
   ]
  },
  {
   "cell_type": "code",
   "execution_count": 170,
   "metadata": {},
   "outputs": [],
   "source": [
    "ttf1_train = tfidf1_train\n",
    "ttf1_test = tfidf1_test\n",
    "ttf_train = tfidf_train\n",
    "ttf_test = tfidf_test\n",
    "ttf2_train = tfidf2_train\n",
    "ttf2_test = tfidf2_test"
   ]
  },
  {
   "cell_type": "code",
   "execution_count": 218,
   "metadata": {},
   "outputs": [],
   "source": [
    "#Giving weights to each of the 3 feature vectors generated\n",
    "big_w = 0.35\n",
    "synt_w = 0.5\n",
    "sem_w = 0.15\n",
    "big_w *= 3\n",
    "synt_w *= 3\n",
    "sem_w *= 3\n",
    "tfidf1_train = big_w*ttf1_train\n",
    "tfidf1_test = big_w*ttf1_test\n",
    "tfidf_train = synt_w*ttf_train\n",
    "tfidf_test = synt_w*ttf_test\n",
    "tfidf2_train = sem_w*ttf2_train\n",
    "tfidf2_test = sem_w*ttf2_test"
   ]
  },
  {
   "cell_type": "code",
   "execution_count": 219,
   "metadata": {},
   "outputs": [],
   "source": [
    "import scipy.sparse as sp\n",
    "# ui = sp.vstack(tfidf_train, tfidf1_train)\n",
    "# yu = tfidf_train.data.tolist()\n",
    "# yu.append(tfidf1_train.tolist())\n",
    "# test = tfidf_test.data.tolist() + x_test.tolist()\n",
    "#print(type(tfidf_train), tfidf_train.shape)\n",
    "#print(type(tfidf1_train), tfidf1_train.shape)\n",
    "# print(type(x_train), x_train.shape)\n",
    "diff_n_rows = tfidf_train.shape[0] - tfidf1_train.shape[0]\n",
    "\n",
    "Xb_new = sp.vstack((tfidf1_train, sp.csr_matrix((diff_n_rows, tfidf1_train.shape[1])))) \n",
    "#where diff_n_rows is the difference of the number of rows between Xa and Xb\n",
    "\n",
    "c = sp.hstack((tfidf_train, Xb_new))\n",
    "\n",
    "diff_n_rows = c.shape[0] - tfidf2_train.shape[0]\n",
    "\n",
    "Xb_new = sp.vstack((tfidf2_train, sp.csr_matrix((diff_n_rows, tfidf2_train.shape[1])))) \n",
    "#where diff_n_rows is the difference of the number of rows between Xa and Xb\n",
    "\n",
    "X = sp.hstack((c, Xb_new))\n",
    "X\n",
    "\n",
    "dif_n_rows = tfidf_test.shape[0] - tfidf1_test.shape[0]\n",
    "\n",
    "Xb_ne = sp.vstack((tfidf1_test, sp.csr_matrix((dif_n_rows, tfidf1_test.shape[1])))) \n",
    "#where diff_n_rows is the difference of the number of rows between Xa and Xb\n",
    "\n",
    "d = sp.hstack((tfidf_test, Xb_ne))\n",
    "\n",
    "dif_n_rows = d.shape[0] - tfidf2_test.shape[0]\n",
    "\n",
    "Xb_ne = sp.vstack((tfidf2_test, sp.csr_matrix((dif_n_rows, tfidf2_test.shape[1])))) \n",
    "#where diff_n_rows is the difference of the number of rows between Xa and Xb\n",
    "\n",
    "Y = sp.hstack((d, Xb_ne))\n"
   ]
  },
  {
   "cell_type": "code",
   "execution_count": 220,
   "metadata": {},
   "outputs": [
    {
     "name": "stdout",
     "output_type": "stream",
     "text": [
      "Accuracy with Multinomial Naive Bayes:   0.927\n"
     ]
    }
   ],
   "source": [
    "clf = MultinomialNB()\n",
    "#type(x_train.tolist())\n",
    "clf.fit(X, y_train)\n",
    "pickle.dump(clf, open('bi_pos_sem_nb', 'wb'))\n",
    "pred = clf.predict(Y)\n",
    "score = metrics.accuracy_score(y_test, pred)\n",
    "print(\"Accuracy with Multinomial Naive Bayes:   %0.3f\" % score)"
   ]
  },
  {
   "cell_type": "code",
   "execution_count": 221,
   "metadata": {},
   "outputs": [
    {
     "name": "stdout",
     "output_type": "stream",
     "text": [
      "Confusion matrix\n"
     ]
    },
    {
     "data": {
      "image/png": "[encoded data removed]",
      "text/plain": [
       "<Figure size 432x288 with 2 Axes>"
      ]
     },
     "metadata": {},
     "output_type": "display_data"
    }
   ],
   "source": [
    "cm = metrics.confusion_matrix(y_test, pred, labels=['FAKE', 'REAL'])\n",
    "plot_confusion_matrix(cm, classes=['FAKE', 'REAL'])"
   ]
  },
  {
   "cell_type": "code",
   "execution_count": 222,
   "metadata": {},
   "outputs": [
    {
     "name": "stdout",
     "output_type": "stream",
     "text": [
      "Accuracy with RandomForestClassifier:   0.868\n"
     ]
    }
   ],
   "source": [
    "clf = RandomForestClassifier()\n",
    "clf.fit(X, y_train)\n",
    "pickle.dump(clf, open('bi_pos_sem_rf', 'wb'))\n",
    "pred = clf.predict(Y)\n",
    "score = metrics.accuracy_score(y_test, pred)\n",
    "print(\"Accuracy with RandomForestClassifier:   %0.3f\" % score)"
   ]
  },
  {
   "cell_type": "code",
   "execution_count": 223,
   "metadata": {},
   "outputs": [
    {
     "name": "stdout",
     "output_type": "stream",
     "text": [
      "Confusion matrix\n"
     ]
    },
    {
     "data": {
      "image/png": "[encoded data removed]",
      "text/plain": [
       "<Figure size 432x288 with 2 Axes>"
      ]
     },
     "metadata": {},
     "output_type": "display_data"
    }
   ],
   "source": [
    "cm = metrics.confusion_matrix(y_test, pred, labels=['FAKE', 'REAL'])\n",
    "plot_confusion_matrix(cm, classes=['FAKE', 'REAL'])"
   ]
  },
  {
   "cell_type": "code",
   "execution_count": 214,
   "metadata": {},
   "outputs": [
    {
     "name": "stdout",
     "output_type": "stream",
     "text": [
      "Accuracy with Gradient Boosting:   0.915\n"
     ]
    }
   ],
   "source": [
    "clf = GradientBoostingClassifier()\n",
    "clf.fit(X, y_train)\n",
    "pickle.dump(clf, open('pos_gb', 'wb'))\n",
    "pred = clf.predict(Y)\n",
    "score = metrics.accuracy_score(y_test, pred)\n",
    "print(\"Accuracy with Gradient Boosting:   %0.3f\" % score)"
   ]
  },
  {
   "cell_type": "code",
   "execution_count": 215,
   "metadata": {},
   "outputs": [
    {
     "name": "stdout",
     "output_type": "stream",
     "text": [
      "Confusion matrix\n"
     ]
    },
    {
     "data": {
      "image/png": "[encoded data removed]",
      "text/plain": [
       "<Figure size 432x288 with 2 Axes>"
      ]
     },
     "metadata": {},
     "output_type": "display_data"
    }
   ],
   "source": [
    "cm = metrics.confusion_matrix(y_test, pred, labels=['FAKE', 'REAL'])\n",
    "plot_confusion_matrix(cm, classes=['FAKE', 'REAL'])"
   ]
  },
  {
   "cell_type": "code",
   "execution_count": null,
   "metadata": {},
   "outputs": [],
   "source": []
  },
  {
   "cell_type": "code",
   "execution_count": null,
   "metadata": {},
   "outputs": [],
   "source": []
  },
  {
   "cell_type": "code",
   "execution_count": null,
   "metadata": {},
   "outputs": [],
   "source": [
    "#For testing any new article \n",
    "a = (open('a.txt'))\n",
    "x_test = a.read()"
   ]
  },
  {
   "cell_type": "code",
   "execution_count": null,
   "metadata": {},
   "outputs": [],
   "source": [
    "#Tf-idf Bigrams\n",
    "#Initialize the `tfidf_vectorizer` \n",
    "tfidf_vectorizer = TfidfVectorizer(stop_words='english', ngram_range = (2,2), max_features = 20000) \n",
    "\n",
    "# Fit and transform the training data \n",
    "tfidf1_train = tfidf_vectorizer.fit_transform(x_train_text.astype('str')) \n",
    "\n",
    "# Transform the test set \n",
    "tfidf1_test = tfidf_vectorizer.transform([x_test])\n"
   ]
  },
  {
   "cell_type": "code",
   "execution_count": null,
   "metadata": {},
   "outputs": [],
   "source": [
    "nlp = spacy.load('en_core_web_sm')\n",
    "x = []\n",
    "text_new = []\n",
    "doc = nlp(x_test)\n",
    "for token in doc:\n",
    "    text_new.append(token.pos_)\n",
    "txt = ' '.join(text_new)\n",
    "txt"
   ]
  },
  {
   "cell_type": "code",
   "execution_count": null,
   "metadata": {},
   "outputs": [],
   "source": [
    "#Tf-idf Bigrams\n",
    "#Initialize the `tfidf_vectorizer` \n",
    "tfidf_vectorizer = TfidfVectorizer(stop_words='english', ngram_range = (2,2)) \n",
    "\n",
    "# Fit and transform the training data \n",
    "tfidf_train = tfidf_vectorizer.fit_transform(x_train_text_pos.astype('str')) \n",
    "\n",
    "# Transform the test set \n",
    "tfidf_test = tfidf_vectorizer.transform([x_test])"
   ]
  },
  {
   "cell_type": "code",
   "execution_count": null,
   "metadata": {},
   "outputs": [],
   "source": [
    "categories = []\n",
    "a = lexicon.analyze(\"\")\n",
    "for key, value in a.items():\n",
    "    categories.append(key)\n",
    "categories\n",
    "lexicon = Empath()\n",
    "semantic = []\n",
    "cnt = 0\n",
    "d = lexicon.analyze(x_test)\n",
    "d\n",
    "sem = []\n",
    "for key,value in d.items() :\n",
    "    sem.append(value)\n",
    "a = []\n",
    "for j in range(len(sem)):\n",
    "    for k in range(int(sem[j])):\n",
    "        a.append(categories[j])\n",
    "    b = \" \".join(a)\n",
    "b"
   ]
  },
  {
   "cell_type": "code",
   "execution_count": null,
   "metadata": {},
   "outputs": [],
   "source": [
    "#Initialize the `tfidf_vectorizer` \n",
    "tfidf_vectorizer = TfidfVectorizer(stop_words='english', ngram_range = (1,1)) \n",
    "\n",
    "# Fit and transform the training data \n",
    "tfidf2_train = tfidf_vectorizer.fit_transform(x_train_semantics.astype('str')) \n",
    "\n",
    "# Transform the test set \n",
    "tfidf2_test = tfidf_vectorizer.transform([b])"
   ]
  },
  {
   "cell_type": "code",
   "execution_count": null,
   "metadata": {},
   "outputs": [],
   "source": [
    "import scipy.sparse as sp\n",
    "# ui = sp.vstack(tfidf_train, tfidf1_train)\n",
    "# yu = tfidf_train.data.tolist()\n",
    "# yu.append(tfidf1_train.tolist())\n",
    "# test = tfidf_test.data.tolist() + x_test.tolist()\n",
    "#print(type(tfidf_train), tfidf_train.shape)\n",
    "#print(type(tfidf1_train), tfidf1_train.shape)\n",
    "# print(type(x_train), x_train.shape)\n",
    "diff_n_rows = tfidf_train.shape[0] - tfidf1_train.shape[0]\n",
    "\n",
    "Xb_new = sp.vstack((tfidf1_train, sp.csr_matrix((diff_n_rows, tfidf1_train.shape[1])))) \n",
    "#where diff_n_rows is the difference of the number of rows between Xa and Xb\n",
    "\n",
    "c = sp.hstack((tfidf_train, Xb_new))\n",
    "\n",
    "diff_n_rows = c.shape[0] - tfidf2_train.shape[0]\n",
    "\n",
    "Xb_new = sp.vstack((tfidf2_train, sp.csr_matrix((diff_n_rows, tfidf2_train.shape[1])))) \n",
    "#where diff_n_rows is the difference of the number of rows between Xa and Xb\n",
    "\n",
    "X = sp.hstack((c, Xb_new))\n",
    "X\n",
    "\n",
    "dif_n_rows = tfidf_test.shape[0] - tfidf1_test.shape[0]\n",
    "\n",
    "Xb_ne = sp.vstack((tfidf1_test, sp.csr_matrix((dif_n_rows, tfidf1_test.shape[1])))) \n",
    "#where diff_n_rows is the difference of the number of rows between Xa and Xb\n",
    "\n",
    "d = sp.hstack((tfidf_test, Xb_ne))\n",
    "\n",
    "dif_n_rows = d.shape[0] - tfidf2_test.shape[0]\n",
    "\n",
    "Xb_ne = sp.vstack((tfidf2_test, sp.csr_matrix((dif_n_rows, tfidf2_test.shape[1])))) \n",
    "#where diff_n_rows is the difference of the number of rows between Xa and Xb\n",
    "\n",
    "Y = sp.hstack((d, Xb_ne))\n"
   ]
  },
  {
   "cell_type": "code",
   "execution_count": null,
   "metadata": {},
   "outputs": [],
   "source": [
    "clf = MultinomialNB()\n",
    "#type(x_train.tolist())\n",
    "clf.fit(X, y_train)\n",
    "clf.predict(Y)"
   ]
  },
  {
   "cell_type": "code",
   "execution_count": null,
   "metadata": {},
   "outputs": [],
   "source": []
  },
  {
   "cell_type": "code",
   "execution_count": null,
   "metadata": {},
   "outputs": [],
   "source": []
  },
  {
   "cell_type": "code",
   "execution_count": null,
   "metadata": {},
   "outputs": [],
   "source": []
  },
  {
   "cell_type": "code",
   "execution_count": null,
   "metadata": {},
   "outputs": [],
   "source": []
  }
 ],
 "metadata": {
  "kernelspec": {
   "display_name": "Python 3",
   "language": "python",
   "name": "python3"
  },
  "language_info": {
   "codemirror_mode": {
    "name": "ipython",
    "version": 3
   },
   "file_extension": ".py",
   "mimetype": "text/x-python",
   "name": "python",
   "nbconvert_exporter": "python",
   "pygments_lexer": "ipython3",
   "version": "3.6.4"
  }
 },
 "nbformat": 4,
 "nbformat_minor": 2
}
